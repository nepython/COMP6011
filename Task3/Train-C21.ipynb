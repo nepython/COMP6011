{
 "cells": [
  {
   "cell_type": "markdown",
   "id": "49578faa-cb26-4b5d-a3d3-a941ab45b658",
   "metadata": {
    "jp-MarkdownHeadingCollapsed": true
   },
   "source": [
    "## 1. Setup models"
   ]
  },
  {
   "cell_type": "code",
   "execution_count": null,
   "id": "ec074e3e-5c98-4041-a56e-025f055e23ca",
   "metadata": {},
   "outputs": [
    {
     "name": "stdout",
     "output_type": "stream",
     "text": [
      "Cloning into 'DL_ECG_Classification'...\n",
      "remote: Enumerating objects: 811, done.\u001b[K\n",
      "remote: Counting objects: 100% (259/259), done.\u001b[K\n",
      "remote: Compressing objects: 100% (127/127), done.\u001b[K\n",
      "remote: Total 811 (delta 162), reused 204 (delta 127), pack-reused 552 (from 1)\u001b[K\n",
      "Receiving objects: 100% (811/811), 14.00 MiB | 16.55 MiB/s, done.\n",
      "Resolving deltas: 100% (501/501), done.\n"
     ]
    }
   ],
   "source": [
    "# !git clone https://github.com/HemaxiN/DL_ECG_Classification.git"
   ]
  },
  {
   "cell_type": "code",
   "execution_count": 2,
   "id": "3885f8f0-5897-4360-b974-72645d1b2b8e",
   "metadata": {
    "scrolled": true
   },
   "outputs": [
    {
     "name": "stdout",
     "output_type": "stream",
     "text": [
      "Defaulting to user installation because normal site-packages is not writeable\n",
      "Collecting argon2-cffi==21.3.0 (from -r DL_ECG_Classification/requirements.txt (line 1))\n",
      "  Using cached argon2_cffi-21.3.0-py3-none-any.whl.metadata (5.4 kB)\n",
      "Collecting argon2-cffi-bindings==21.2.0 (from -r DL_ECG_Classification/requirements.txt (line 2))\n",
      "  Using cached argon2_cffi_bindings-21.2.0-cp36-abi3-manylinux_2_17_x86_64.manylinux2014_x86_64.whl.metadata (6.7 kB)\n",
      "Collecting asttokens==2.0.5 (from -r DL_ECG_Classification/requirements.txt (line 3))\n",
      "  Using cached asttokens-2.0.5-py2.py3-none-any.whl.metadata (4.6 kB)\n",
      "Collecting attrs==21.4.0 (from -r DL_ECG_Classification/requirements.txt (line 4))\n",
      "  Using cached attrs-21.4.0-py2.py3-none-any.whl.metadata (9.8 kB)\n",
      "Requirement already satisfied: backcall==0.2.0 in /usr/lib/python3/dist-packages (from -r DL_ECG_Classification/requirements.txt (line 5)) (0.2.0)\n",
      "Requirement already satisfied: beautifulsoup4==4.10.0 in /usr/lib/python3/dist-packages (from -r DL_ECG_Classification/requirements.txt (line 6)) (4.10.0)\n",
      "Requirement already satisfied: bleach==4.1.0 in /usr/lib/python3/dist-packages (from -r DL_ECG_Classification/requirements.txt (line 7)) (4.1.0)\n",
      "Collecting certifi==2021.10.8 (from -r DL_ECG_Classification/requirements.txt (line 8))\n",
      "  Using cached certifi-2021.10.8-py2.py3-none-any.whl.metadata (3.0 kB)\n",
      "Requirement already satisfied: cffi==1.15.0 in /usr/lib/python3/dist-packages (from -r DL_ECG_Classification/requirements.txt (line 9)) (1.15.0)\n",
      "Collecting charset-normalizer==2.0.12 (from -r DL_ECG_Classification/requirements.txt (line 10))\n",
      "  Using cached charset_normalizer-2.0.12-py3-none-any.whl.metadata (11 kB)\n",
      "Requirement already satisfied: colorama==0.4.4 in /usr/lib/python3/dist-packages (from -r DL_ECG_Classification/requirements.txt (line 11)) (0.4.4)\n",
      "Requirement already satisfied: cycler==0.11.0 in /usr/lib/python3/dist-packages (from -r DL_ECG_Classification/requirements.txt (line 12)) (0.11.0)\n",
      "Collecting debugpy==1.6.0 (from -r DL_ECG_Classification/requirements.txt (line 13))\n",
      "  Using cached debugpy-1.6.0-cp310-cp310-manylinux_2_5_x86_64.manylinux1_x86_64.manylinux_2_12_x86_64.manylinux2010_x86_64.whl.metadata (1.1 kB)\n",
      "Collecting decorator==5.1.1 (from -r DL_ECG_Classification/requirements.txt (line 14))\n",
      "  Using cached decorator-5.1.1-py3-none-any.whl.metadata (4.0 kB)\n",
      "Requirement already satisfied: defusedxml==0.7.1 in /usr/lib/python3/dist-packages (from -r DL_ECG_Classification/requirements.txt (line 15)) (0.7.1)\n",
      "Requirement already satisfied: entrypoints==0.4 in /usr/lib/python3/dist-packages (from -r DL_ECG_Classification/requirements.txt (line 16)) (0.4)\n",
      "Collecting executing==0.8.3 (from -r DL_ECG_Classification/requirements.txt (line 17))\n",
      "  Using cached executing-0.8.3-py2.py3-none-any.whl.metadata (8.6 kB)\n",
      "Collecting fonttools==4.31.2 (from -r DL_ECG_Classification/requirements.txt (line 18))\n",
      "  Using cached fonttools-4.31.2-py3-none-any.whl.metadata (121 kB)\n",
      "Requirement already satisfied: idna==3.3 in /usr/lib/python3/dist-packages (from -r DL_ECG_Classification/requirements.txt (line 19)) (3.3)\n",
      "Collecting importlib-resources==5.6.0 (from -r DL_ECG_Classification/requirements.txt (line 20))\n",
      "  Using cached importlib_resources-5.6.0-py3-none-any.whl.metadata (3.1 kB)\n",
      "Collecting ipykernel==6.10.0 (from -r DL_ECG_Classification/requirements.txt (line 21))\n",
      "  Using cached ipykernel-6.10.0-py3-none-any.whl.metadata (2.0 kB)\n",
      "Collecting ipython==8.2.0 (from -r DL_ECG_Classification/requirements.txt (line 22))\n",
      "  Using cached ipython-8.2.0-py3-none-any.whl.metadata (4.9 kB)\n",
      "Requirement already satisfied: ipython-genutils==0.2.0 in /usr/lib/python3/dist-packages (from -r DL_ECG_Classification/requirements.txt (line 23)) (0.2.0)\n",
      "Collecting ipywidgets==7.7.0 (from -r DL_ECG_Classification/requirements.txt (line 24))\n",
      "  Using cached ipywidgets-7.7.0-py2.py3-none-any.whl.metadata (1.9 kB)\n",
      "Collecting jedi==0.18.1 (from -r DL_ECG_Classification/requirements.txt (line 25))\n",
      "  Using cached jedi-0.18.1-py2.py3-none-any.whl.metadata (20 kB)\n",
      "Collecting Jinja2==3.1.1 (from -r DL_ECG_Classification/requirements.txt (line 26))\n",
      "  Using cached Jinja2-3.1.1-py3-none-any.whl.metadata (3.5 kB)\n",
      "Collecting joblib==1.1.0 (from -r DL_ECG_Classification/requirements.txt (line 27))\n",
      "  Using cached joblib-1.1.0-py2.py3-none-any.whl.metadata (5.2 kB)\n",
      "Collecting jsonschema==4.4.0 (from -r DL_ECG_Classification/requirements.txt (line 28))\n",
      "  Using cached jsonschema-4.4.0-py3-none-any.whl.metadata (7.5 kB)\n",
      "Collecting jupyter==1.0.0 (from -r DL_ECG_Classification/requirements.txt (line 29))\n",
      "  Using cached jupyter-1.0.0-py2.py3-none-any.whl.metadata (995 bytes)\n",
      "Collecting jupyter-client==7.1.2 (from -r DL_ECG_Classification/requirements.txt (line 30))\n",
      "  Using cached jupyter_client-7.1.2-py3-none-any.whl.metadata (5.4 kB)\n",
      "Collecting jupyter-console==6.4.3 (from -r DL_ECG_Classification/requirements.txt (line 31))\n",
      "  Using cached jupyter_console-6.4.3-py3-none-any.whl.metadata (1.2 kB)\n",
      "Collecting jupyter-core==4.9.2 (from -r DL_ECG_Classification/requirements.txt (line 32))\n",
      "  Using cached jupyter_core-4.9.2-py3-none-any.whl.metadata (870 bytes)\n",
      "Requirement already satisfied: jupyterlab-pygments==0.1.2 in /usr/lib/python3/dist-packages (from -r DL_ECG_Classification/requirements.txt (line 33)) (0.1.2)\n",
      "Collecting jupyterlab-widgets==1.1.0 (from -r DL_ECG_Classification/requirements.txt (line 34))\n",
      "  Using cached jupyterlab_widgets-1.1.0-py3-none-any.whl.metadata (3.7 kB)\n",
      "Collecting kiwisolver==1.4.2 (from -r DL_ECG_Classification/requirements.txt (line 35))\n",
      "  Using cached kiwisolver-1.4.2-cp310-cp310-manylinux_2_12_x86_64.manylinux2010_x86_64.whl.metadata (6.4 kB)\n",
      "Collecting llvmlite==0.38.1 (from -r DL_ECG_Classification/requirements.txt (line 36))\n",
      "  Using cached llvmlite-0.38.1-cp310-cp310-manylinux_2_17_x86_64.manylinux2014_x86_64.whl.metadata (4.7 kB)\n",
      "Collecting MarkupSafe==2.1.1 (from -r DL_ECG_Classification/requirements.txt (line 37))\n",
      "  Using cached MarkupSafe-2.1.1-cp310-cp310-manylinux_2_17_x86_64.manylinux2014_x86_64.whl.metadata (3.2 kB)\n",
      "Collecting matplotlib==3.5.1 (from -r DL_ECG_Classification/requirements.txt (line 38))\n",
      "  Using cached matplotlib-3.5.1-cp310-cp310-manylinux_2_17_x86_64.manylinux2014_x86_64.whl.metadata (6.7 kB)\n",
      "Requirement already satisfied: matplotlib-inline==0.1.3 in /usr/lib/python3/dist-packages (from -r DL_ECG_Classification/requirements.txt (line 39)) (0.1.3)\n",
      "Collecting mistune==0.8.4 (from -r DL_ECG_Classification/requirements.txt (line 40))\n",
      "  Using cached mistune-0.8.4-py2.py3-none-any.whl.metadata (8.5 kB)\n",
      "Collecting nbclient==0.5.13 (from -r DL_ECG_Classification/requirements.txt (line 41))\n",
      "  Using cached nbclient-0.5.13-py3-none-any.whl.metadata (5.0 kB)\n",
      "Collecting nbconvert==6.4.5 (from -r DL_ECG_Classification/requirements.txt (line 42))\n",
      "  Using cached nbconvert-6.4.5-py3-none-any.whl.metadata (5.9 kB)\n",
      "Collecting nbformat==5.2.0 (from -r DL_ECG_Classification/requirements.txt (line 43))\n",
      "  Using cached nbformat-5.2.0-py3-none-any.whl.metadata (1.4 kB)\n",
      "Requirement already satisfied: nest-asyncio==1.5.4 in /usr/lib/python3/dist-packages (from -r DL_ECG_Classification/requirements.txt (line 44)) (1.5.4)\n",
      "Collecting notebook==6.4.10 (from -r DL_ECG_Classification/requirements.txt (line 45))\n",
      "  Using cached notebook-6.4.10-py3-none-any.whl.metadata (2.4 kB)\n",
      "Collecting numba==0.55.2 (from -r DL_ECG_Classification/requirements.txt (line 46))\n",
      "  Using cached numba-0.55.2-cp310-cp310-manylinux2014_x86_64.manylinux_2_17_x86_64.whl.metadata (3.3 kB)\n",
      "Collecting numpy==1.22.3 (from -r DL_ECG_Classification/requirements.txt (line 47))\n",
      "  Using cached numpy-1.22.3-cp310-cp310-manylinux_2_17_x86_64.manylinux2014_x86_64.whl.metadata (2.0 kB)\n",
      "Collecting opencv-python==4.5.5.64 (from -r DL_ECG_Classification/requirements.txt (line 48))\n",
      "  Using cached opencv_python-4.5.5.64-cp36-abi3-manylinux_2_17_x86_64.manylinux2014_x86_64.whl.metadata (18 kB)\n",
      "Collecting packaging==21.3 (from -r DL_ECG_Classification/requirements.txt (line 49))\n",
      "  Using cached packaging-21.3-py3-none-any.whl.metadata (15 kB)\n",
      "Collecting pandas==1.5.2 (from -r DL_ECG_Classification/requirements.txt (line 50))\n",
      "  Using cached pandas-1.5.2-cp310-cp310-manylinux_2_17_x86_64.manylinux2014_x86_64.whl.metadata (11 kB)\n",
      "Requirement already satisfied: pandocfilters==1.5.0 in /usr/lib/python3/dist-packages (from -r DL_ECG_Classification/requirements.txt (line 51)) (1.5.0)\n",
      "Collecting parso==0.8.3 (from -r DL_ECG_Classification/requirements.txt (line 52))\n",
      "  Using cached parso-0.8.3-py2.py3-none-any.whl.metadata (7.5 kB)\n",
      "Requirement already satisfied: pickleshare==0.7.5 in /usr/lib/python3/dist-packages (from -r DL_ECG_Classification/requirements.txt (line 53)) (0.7.5)\n",
      "Requirement already satisfied: Pillow==9.0.1 in /usr/lib/python3/dist-packages (from -r DL_ECG_Classification/requirements.txt (line 54)) (9.0.1)\n",
      "Collecting prettytable==3.3.0 (from -r DL_ECG_Classification/requirements.txt (line 55))\n",
      "  Using cached prettytable-3.3.0-py3-none-any.whl.metadata (24 kB)\n",
      "Collecting prometheus-client==0.13.1 (from -r DL_ECG_Classification/requirements.txt (line 56))\n",
      "  Using cached prometheus_client-0.13.1-py3-none-any.whl.metadata (20 kB)\n",
      "Requirement already satisfied: prompt-toolkit==3.0.28 in /usr/lib/python3/dist-packages (from -r DL_ECG_Classification/requirements.txt (line 57)) (3.0.28)\n",
      "Requirement already satisfied: psutil==5.9.0 in /usr/lib/python3/dist-packages (from -r DL_ECG_Classification/requirements.txt (line 58)) (5.9.0)\n",
      "Collecting pure-eval==0.2.2 (from -r DL_ECG_Classification/requirements.txt (line 59))\n",
      "  Using cached pure_eval-0.2.2-py3-none-any.whl.metadata (6.2 kB)\n",
      "Requirement already satisfied: pycparser==2.21 in /usr/lib/python3/dist-packages (from -r DL_ECG_Classification/requirements.txt (line 60)) (2.21)\n",
      "Collecting Pygments==2.11.2 (from -r DL_ECG_Classification/requirements.txt (line 61))\n",
      "  Using cached Pygments-2.11.2-py3-none-any.whl.metadata (1.5 kB)\n",
      "Collecting pyparsing==3.0.7 (from -r DL_ECG_Classification/requirements.txt (line 62))\n",
      "  Using cached pyparsing-3.0.7-py3-none-any.whl.metadata (4.2 kB)\n",
      "Requirement already satisfied: pyrsistent==0.18.1 in /usr/lib/python3/dist-packages (from -r DL_ECG_Classification/requirements.txt (line 63)) (0.18.1)\n",
      "Collecting python-dateutil==2.8.2 (from -r DL_ECG_Classification/requirements.txt (line 64))\n",
      "  Using cached python_dateutil-2.8.2-py2.py3-none-any.whl.metadata (8.2 kB)\n",
      "Collecting pyts==0.12.0 (from -r DL_ECG_Classification/requirements.txt (line 65))\n",
      "  Using cached pyts-0.12.0-py3-none-any.whl.metadata (10 kB)\n",
      "Collecting pytz==2022.7.1 (from -r DL_ECG_Classification/requirements.txt (line 66))\n",
      "  Using cached pytz-2022.7.1-py2.py3-none-any.whl.metadata (21 kB)\n",
      "\u001b[31mERROR: Could not find a version that satisfies the requirement pywin32==303 (from versions: none)\u001b[0m\u001b[31m\n",
      "\u001b[0m\n",
      "\u001b[1m[\u001b[0m\u001b[34;49mnotice\u001b[0m\u001b[1;39;49m]\u001b[0m\u001b[39;49m A new release of pip is available: \u001b[0m\u001b[31;49m25.0.1\u001b[0m\u001b[39;49m -> \u001b[0m\u001b[32;49m25.1.1\u001b[0m\n",
      "\u001b[1m[\u001b[0m\u001b[34;49mnotice\u001b[0m\u001b[1;39;49m]\u001b[0m\u001b[39;49m To update, run: \u001b[0m\u001b[32;49mpython -m pip install --upgrade pip\u001b[0m\n",
      "\u001b[31mERROR: No matching distribution found for pywin32==303\u001b[0m\u001b[31m\n",
      "\u001b[0m"
     ]
    }
   ],
   "source": [
    "!pip install -U -r DL_ECG_Classification/requirements.txt"
   ]
  },
  {
   "cell_type": "code",
   "execution_count": null,
   "id": "2c49151a-b881-4308-9a63-1dc5bcfd67c0",
   "metadata": {},
   "outputs": [
    {
     "name": "stdout",
     "output_type": "stream",
     "text": [
      "\n",
      "\u001b[1m[\u001b[0m\u001b[34;49mnotice\u001b[0m\u001b[1;39;49m]\u001b[0m\u001b[39;49m A new release of pip is available: \u001b[0m\u001b[31;49m25.0.1\u001b[0m\u001b[39;49m -> \u001b[0m\u001b[32;49m25.1.1\u001b[0m\n",
      "\u001b[1m[\u001b[0m\u001b[34;49mnotice\u001b[0m\u001b[1;39;49m]\u001b[0m\u001b[39;49m To update, run: \u001b[0m\u001b[32;49mpython -m pip install --upgrade pip\u001b[0m\n"
     ]
    }
   ],
   "source": [
    "!pip install -q tifffile pyts wfdb torchmetrics torchsummary"
   ]
  },
  {
   "cell_type": "markdown",
   "id": "73053b3d-2d44-4730-9f8f-7118a106b91e",
   "metadata": {},
   "source": [
    "## 2. Run Dataset.ipynb\n",
    "* Downloads Challenge-2021, an aggregate dataset\n",
    "* & performs appropriate Preprocessing"
   ]
  },
  {
   "cell_type": "code",
   "execution_count": 1,
   "id": "665e9251-0b67-48d1-8049-f77c23673337",
   "metadata": {},
   "outputs": [],
   "source": [
    "import matplotlib.pyplot as plt\n",
    "import numpy as np\n",
    "import pandas as pd\n",
    "import wfdb\n",
    "import ast\n",
    "import pickle\n",
    "import os\n",
    "from sklearn.model_selection import train_test_split"
   ]
  },
  {
   "cell_type": "code",
   "execution_count": 2,
   "id": "c6fd0199-5526-4310-8bcb-db7fca5a565e",
   "metadata": {},
   "outputs": [],
   "source": [
    "def load_raw_data(df, sampling_rate):\n",
    "    if sampling_rate == 100:\n",
    "        data = [wfdb.rdsamp(f) for f in df.filename_lr]\n",
    "    else:\n",
    "        data = [wfdb.rdsamp(f) for f in df.filename_hr]\n",
    "    data = np.array([signal for signal, meta in data])\n",
    "    return data"
   ]
  },
  {
   "cell_type": "code",
   "execution_count": 3,
   "id": "de65b50c-e8e7-47ae-ac2a-3b87e6b0b53c",
   "metadata": {
    "scrolled": true
   },
   "outputs": [
    {
     "name": "stdout",
     "output_type": "stream",
     "text": [
      "Train records: 34530\n",
      "Val records: 4316\n",
      "Val records: 4317\n"
     ]
    }
   ],
   "source": [
    "path = 'challenge-2021'\n",
    "sampling_rate = 100\n",
    "\n",
    "# load and convert annotation data\n",
    "Y = pd.read_csv(os.path.join(path, 'records.csv'))\n",
    "Y.scp_codes = Y.scp_codes.apply(lambda x: ast.literal_eval(x))\n",
    "\n",
    "# Shuffle\n",
    "Y = Y.sample(frac=1).reset_index(drop=True)\n",
    "X = load_raw_data(Y, sampling_rate)\n",
    "\n",
    "# Split data into train and test\n",
    "Y_train, Y_val = train_test_split(Y, test_size=0.2)\n",
    "Y_dev, Y_test = train_test_split(Y_val, test_size=0.5)\n",
    "\n",
    "# Load raw signal data\n",
    "X_train = load_raw_data(Y_train, sampling_rate)\n",
    "y_train = Y_train.scp_codes\n",
    "print(f'Train records: {len(y_train)}')\n",
    "\n",
    "X_dev = load_raw_data(Y_dev, sampling_rate)\n",
    "y_dev = Y_dev.scp_codes\n",
    "print(f'Val records: {len(y_dev)}')\n",
    "\n",
    "X_test = load_raw_data(Y_test, sampling_rate)\n",
    "y_test = Y_test.scp_codes\n",
    "print(f'Val records: {len(y_test)}')"
   ]
  },
  {
   "cell_type": "code",
   "execution_count": 4,
   "id": "819cbe30-6b9b-420b-b544-b4dae03cb301",
   "metadata": {
    "scrolled": true
   },
   "outputs": [
    {
     "data": {
      "text/html": [
       "<div>\n",
       "<style scoped>\n",
       "    .dataframe tbody tr th:only-of-type {\n",
       "        vertical-align: middle;\n",
       "    }\n",
       "\n",
       "    .dataframe tbody tr th {\n",
       "        vertical-align: top;\n",
       "    }\n",
       "\n",
       "    .dataframe thead th {\n",
       "        text-align: right;\n",
       "    }\n",
       "</style>\n",
       "<table border=\"1\" class=\"dataframe\">\n",
       "  <thead>\n",
       "    <tr style=\"text-align: right;\">\n",
       "      <th></th>\n",
       "      <th>y_train</th>\n",
       "      <th>y_dev</th>\n",
       "      <th>y_test</th>\n",
       "    </tr>\n",
       "  </thead>\n",
       "  <tbody>\n",
       "    <tr>\n",
       "      <th>NORM</th>\n",
       "      <td>15957</td>\n",
       "      <td>2047.0</td>\n",
       "      <td>1996.0</td>\n",
       "    </tr>\n",
       "    <tr>\n",
       "      <th>AFLT</th>\n",
       "      <td>5832</td>\n",
       "      <td>717.0</td>\n",
       "      <td>728.0</td>\n",
       "    </tr>\n",
       "    <tr>\n",
       "      <th>RBBB</th>\n",
       "      <td>3812</td>\n",
       "      <td>451.0</td>\n",
       "      <td>478.0</td>\n",
       "    </tr>\n",
       "    <tr>\n",
       "      <th>AFIB</th>\n",
       "      <td>3517</td>\n",
       "      <td>442.0</td>\n",
       "      <td>423.0</td>\n",
       "    </tr>\n",
       "    <tr>\n",
       "      <th>1dAVB</th>\n",
       "      <td>2507</td>\n",
       "      <td>314.0</td>\n",
       "      <td>308.0</td>\n",
       "    </tr>\n",
       "    <tr>\n",
       "      <th>LBBB</th>\n",
       "      <td>919</td>\n",
       "      <td>99.0</td>\n",
       "      <td>126.0</td>\n",
       "    </tr>\n",
       "    <tr>\n",
       "      <th>AFLT, RBBB</th>\n",
       "      <td>690</td>\n",
       "      <td>63.0</td>\n",
       "      <td>65.0</td>\n",
       "    </tr>\n",
       "    <tr>\n",
       "      <th>AFIB, RBBB</th>\n",
       "      <td>497</td>\n",
       "      <td>68.0</td>\n",
       "      <td>70.0</td>\n",
       "    </tr>\n",
       "    <tr>\n",
       "      <th>1dAVB, RBBB</th>\n",
       "      <td>263</td>\n",
       "      <td>32.0</td>\n",
       "      <td>44.0</td>\n",
       "    </tr>\n",
       "    <tr>\n",
       "      <th>1dAVB, LBBB</th>\n",
       "      <td>167</td>\n",
       "      <td>23.0</td>\n",
       "      <td>17.0</td>\n",
       "    </tr>\n",
       "    <tr>\n",
       "      <th>AFIB, LBBB</th>\n",
       "      <td>157</td>\n",
       "      <td>28.0</td>\n",
       "      <td>28.0</td>\n",
       "    </tr>\n",
       "    <tr>\n",
       "      <th>AFLT, LBBB</th>\n",
       "      <td>121</td>\n",
       "      <td>20.0</td>\n",
       "      <td>25.0</td>\n",
       "    </tr>\n",
       "    <tr>\n",
       "      <th>AFIB, AFLT</th>\n",
       "      <td>24</td>\n",
       "      <td>2.0</td>\n",
       "      <td>3.0</td>\n",
       "    </tr>\n",
       "    <tr>\n",
       "      <th>LBBB, RBBB</th>\n",
       "      <td>20</td>\n",
       "      <td>2.0</td>\n",
       "      <td>0.0</td>\n",
       "    </tr>\n",
       "    <tr>\n",
       "      <th>1dAVB, AFIB</th>\n",
       "      <td>17</td>\n",
       "      <td>0.0</td>\n",
       "      <td>0.0</td>\n",
       "    </tr>\n",
       "    <tr>\n",
       "      <th>AFIB, LBBB, RBBB</th>\n",
       "      <td>7</td>\n",
       "      <td>2.0</td>\n",
       "      <td>0.0</td>\n",
       "    </tr>\n",
       "    <tr>\n",
       "      <th>1dAVB, AFLT</th>\n",
       "      <td>6</td>\n",
       "      <td>2.0</td>\n",
       "      <td>1.0</td>\n",
       "    </tr>\n",
       "    <tr>\n",
       "      <th>1dAVB, AFIB, RBBB</th>\n",
       "      <td>5</td>\n",
       "      <td>2.0</td>\n",
       "      <td>2.0</td>\n",
       "    </tr>\n",
       "    <tr>\n",
       "      <th>1dAVB, AFIB, LBBB</th>\n",
       "      <td>3</td>\n",
       "      <td>0.0</td>\n",
       "      <td>0.0</td>\n",
       "    </tr>\n",
       "    <tr>\n",
       "      <th>1dAVB, LBBB, RBBB</th>\n",
       "      <td>3</td>\n",
       "      <td>0.0</td>\n",
       "      <td>0.0</td>\n",
       "    </tr>\n",
       "    <tr>\n",
       "      <th>AFLT, LBBB, RBBB</th>\n",
       "      <td>3</td>\n",
       "      <td>2.0</td>\n",
       "      <td>2.0</td>\n",
       "    </tr>\n",
       "    <tr>\n",
       "      <th>1dAVB, AFLT, RBBB</th>\n",
       "      <td>1</td>\n",
       "      <td>0.0</td>\n",
       "      <td>0.0</td>\n",
       "    </tr>\n",
       "    <tr>\n",
       "      <th>AFIB, AFLT, RBBB</th>\n",
       "      <td>1</td>\n",
       "      <td>0.0</td>\n",
       "      <td>1.0</td>\n",
       "    </tr>\n",
       "    <tr>\n",
       "      <th>AFIB, AFLT, LBBB</th>\n",
       "      <td>1</td>\n",
       "      <td>0.0</td>\n",
       "      <td>0.0</td>\n",
       "    </tr>\n",
       "  </tbody>\n",
       "</table>\n",
       "</div>"
      ],
      "text/plain": [
       "                   y_train   y_dev  y_test\n",
       "NORM                 15957  2047.0  1996.0\n",
       "AFLT                  5832   717.0   728.0\n",
       "RBBB                  3812   451.0   478.0\n",
       "AFIB                  3517   442.0   423.0\n",
       "1dAVB                 2507   314.0   308.0\n",
       "LBBB                   919    99.0   126.0\n",
       "AFLT, RBBB             690    63.0    65.0\n",
       "AFIB, RBBB             497    68.0    70.0\n",
       "1dAVB, RBBB            263    32.0    44.0\n",
       "1dAVB, LBBB            167    23.0    17.0\n",
       "AFIB, LBBB             157    28.0    28.0\n",
       "AFLT, LBBB             121    20.0    25.0\n",
       "AFIB, AFLT              24     2.0     3.0\n",
       "LBBB, RBBB              20     2.0     0.0\n",
       "1dAVB, AFIB             17     0.0     0.0\n",
       "AFIB, LBBB, RBBB         7     2.0     0.0\n",
       "1dAVB, AFLT              6     2.0     1.0\n",
       "1dAVB, AFIB, RBBB        5     2.0     2.0\n",
       "1dAVB, AFIB, LBBB        3     0.0     0.0\n",
       "1dAVB, LBBB, RBBB        3     0.0     0.0\n",
       "AFLT, LBBB, RBBB         3     2.0     2.0\n",
       "1dAVB, AFLT, RBBB        1     0.0     0.0\n",
       "AFIB, AFLT, RBBB         1     0.0     1.0\n",
       "AFIB, AFLT, LBBB         1     0.0     0.0"
      ]
     },
     "execution_count": 4,
     "metadata": {},
     "output_type": "execute_result"
    }
   ],
   "source": [
    "# Flatten lists\n",
    "y_train_flat = pd.Series([', '.join(sublist) for sublist in y_train])\n",
    "y_dev_flat = pd.Series([', '.join(sublist) for sublist in y_dev])\n",
    "y_test_flat = pd.Series([', '.join(sublist) for sublist in y_test])\n",
    "\n",
    "# Get value counts\n",
    "train_counts = y_train_flat.value_counts()\n",
    "dev_counts = y_dev_flat.value_counts()\n",
    "test_counts = y_test_flat.value_counts()\n",
    "\n",
    "# Create a summary DataFrame\n",
    "summary_df = pd.DataFrame({\n",
    "    'y_train': train_counts,\n",
    "    'y_dev': dev_counts,\n",
    "    'y_test': test_counts\n",
    "})\n",
    "\n",
    "summary_df = summary_df.fillna(0)\n",
    "summary_df.sort_values(by='y_train', ascending=False)"
   ]
  },
  {
   "cell_type": "code",
   "execution_count": 5,
   "id": "0ac88f45-b9d6-4641-87ce-9ba200d492f5",
   "metadata": {},
   "outputs": [],
   "source": [
    "!rm -r Images\n",
    "!rm -r Processed"
   ]
  },
  {
   "cell_type": "code",
   "execution_count": 6,
   "id": "e9eea17f-1e67-4773-b6c0-9b455be6722e",
   "metadata": {},
   "outputs": [],
   "source": [
    "preprocessed_dir = 'Processed'\n",
    "os.makedirs(preprocessed_dir, exist_ok=True)\n",
    "\n",
    "pickle_out = open(os.path.join(preprocessed_dir, \"X.pickle\"),\"wb\")\n",
    "pickle.dump(X, pickle_out)\n",
    "pickle_out.close()\n",
    "\n",
    "pickle_out = open(os.path.join(preprocessed_dir, \"y.pickle\"),\"wb\")\n",
    "pickle.dump(Y, pickle_out)\n",
    "pickle_out.close()\n",
    "\n",
    "pickle_out = open(os.path.join(preprocessed_dir, \"X_train.pickle\"),\"wb\")\n",
    "pickle.dump(X_train, pickle_out)\n",
    "pickle_out.close()\n",
    "\n",
    "pickle_out = open(os.path.join(preprocessed_dir, \"y_train.pickle\"),\"wb\")\n",
    "pickle.dump(y_train, pickle_out)\n",
    "pickle_out.close()\n",
    "\n",
    "pickle_out = open(os.path.join(preprocessed_dir, \"X_dev.pickle\"),\"wb\")\n",
    "pickle.dump(X_dev, pickle_out)\n",
    "pickle_out.close()\n",
    "\n",
    "pickle_out = open(os.path.join(preprocessed_dir, \"y_dev.pickle\"),\"wb\")\n",
    "pickle.dump(y_dev, pickle_out)\n",
    "pickle_out.close()\n",
    "\n",
    "pickle_out = open(os.path.join(preprocessed_dir, \"X_test.pickle\"),\"wb\")\n",
    "pickle.dump(X_test, pickle_out)\n",
    "pickle_out.close()\n",
    "\n",
    "pickle_out = open(os.path.join(preprocessed_dir, \"y_test.pickle\"),\"wb\")\n",
    "pickle.dump(y_test, pickle_out)\n",
    "pickle_out.close()"
   ]
  },
  {
   "cell_type": "code",
   "execution_count": 7,
   "id": "a6cc5cd3-40c9-4191-aa69-26c5be8e16cf",
   "metadata": {},
   "outputs": [],
   "source": [
    "def labelstovector(X, y):\n",
    "    '''\n",
    "    Convert the labels in y into vectors:\n",
    "    Multi-label problem:\n",
    "    NORM: [0,0,0,0,0]\n",
    "    AFIB: [1,0,0,0,0]\n",
    "    AFLT: [0,1,0,0,0]\n",
    "    1dAVb: [0,0,1,0,0]\n",
    "    RBBB: [0,0,0,1,0]\n",
    "    LBBB: [0,0,0,0,1]\n",
    "    Combination example:\n",
    "    AFLT and LBBB: [0,1,0,0,1]\n",
    "    LBBB and RBBB and 1dAVB: [0,0,1,1,1]\n",
    "    -----------------------------------------------------------\n",
    "    Args: X (number of examples, signal length, number of leads)\n",
    "        y (number of examples, )\n",
    "    '''\n",
    "    y_list = []\n",
    "    X_list = []\n",
    "    for label, ecg in zip(y, X):\n",
    "        aux_vec = np.zeros(5)\n",
    "        if 'AFIB' in label:\n",
    "            aux_vec[0] = 1\n",
    "        if 'AFLT' in label:\n",
    "            aux_vec[1] = 1\n",
    "        if '1dAVB' in label:\n",
    "            aux_vec[2] = 1\n",
    "        if 'RBBB' in label:\n",
    "            aux_vec[3] = 1\n",
    "        if 'LBBB' in label:\n",
    "            aux_vec[4] = 1\n",
    "\n",
    "        y_list.append(aux_vec)\n",
    "        X_list.append(ecg)\n",
    "\n",
    "    return X_list, y_list"
   ]
  },
  {
   "cell_type": "code",
   "execution_count": 8,
   "id": "bc6d0d4c-f6f8-4af8-8f9d-e89bb124d410",
   "metadata": {},
   "outputs": [
    {
     "name": "stdout",
     "output_type": "stream",
     "text": [
      "Train size: (34530, 1000, 12)\n",
      "Val size: (4316, 1000, 12)\n",
      "Test size: (4317, 1000, 12)\n"
     ]
    }
   ],
   "source": [
    "X_train_processed, y_train_processed = labelstovector(X_train, y_train)\n",
    "X_dev_processed, y_dev_processed = labelstovector(X_dev, y_dev)\n",
    "X_test_processed, y_test_processed = labelstovector(X_test, y_test)\n",
    "\n",
    "pickle_out = open(os.path.join(preprocessed_dir, \"X_train_processed.pickle\"),\"wb\")\n",
    "pickle.dump(X_train_processed, pickle_out)\n",
    "pickle_out.close()\n",
    "\n",
    "pickle_out = open(os.path.join(preprocessed_dir, \"y_train_processed.pickle\"),\"wb\")\n",
    "pickle.dump(y_train_processed, pickle_out)\n",
    "pickle_out.close()\n",
    "\n",
    "pickle_out = open(os.path.join(preprocessed_dir, \"X_dev_processed.pickle\"),\"wb\")\n",
    "pickle.dump(X_dev_processed, pickle_out)\n",
    "pickle_out.close()\n",
    "\n",
    "pickle_out = open(os.path.join(preprocessed_dir, \"y_dev_processed.pickle\"),\"wb\")\n",
    "pickle.dump(y_dev_processed, pickle_out)\n",
    "pickle_out.close()\n",
    "\n",
    "pickle_out = open(os.path.join(preprocessed_dir, \"X_test_processed.pickle\"),\"wb\")\n",
    "pickle.dump(X_test_processed, pickle_out)\n",
    "pickle_out.close()\n",
    "\n",
    "pickle_out = open(os.path.join(preprocessed_dir, \"y_test_processed.pickle\"),\"wb\")\n",
    "pickle.dump(y_test_processed, pickle_out)\n",
    "pickle_out.close()\n",
    "\n",
    "print('Train size:', X_train.shape)\n",
    "print('Val size:', X_dev.shape)\n",
    "print('Test size:', X_test.shape)"
   ]
  },
  {
   "cell_type": "code",
   "execution_count": 9,
   "id": "2318823a-9f91-48f6-a128-6eab68c9b277",
   "metadata": {
    "scrolled": true
   },
   "outputs": [
    {
     "name": "stdout",
     "output_type": "stream",
     "text": [
      "Processed Processed/model_specific\n",
      "\u001b[0m"
     ]
    }
   ],
   "source": [
    "# Prepare 2D dataset\n",
    "!mkdir -p Images/dev/labels\n",
    "!mkdir -p Images/dev/images\n",
    "!mkdir -p Images/train/labels\n",
    "!mkdir -p Images/train/images\n",
    "!mkdir -p Images/test/labels\n",
    "!mkdir -p Images/test/images\n",
    "\n",
    "# Save processed dataset at\n",
    "!mkdir -p Processed/model_specific/X_rnn_train\n",
    "!mkdir -p Processed/model_specific/X_rnn_dev\n",
    "!mkdir -p Processed/model_specific/X_rnn_test\n",
    "!mkdir -p Processed/model_specific/X_cnn_train\n",
    "!mkdir -p Processed/model_specific/X_cnn_dev\n",
    "!mkdir -p Processed/model_specific/X_cnn_test\n",
    "!mkdir -p Processed/model_specific/labels_train\n",
    "!mkdir -p Processed/model_specific/labels_dev\n",
    "!mkdir -p Processed/model_specific/labels_test\n",
    "\n",
    "# Modify `create_dataset.py` appropriately to\n",
    "# specify dataset path and save directory path\n",
    "!python DL_ECG_Classification/Dataset/create_dataset.py"
   ]
  },
  {
   "cell_type": "code",
   "execution_count": 31,
   "id": "46923b99-54b6-4260-900a-4e0e24681fa6",
   "metadata": {},
   "outputs": [
    {
     "name": "stdout",
     "output_type": "stream",
     "text": [
      "Model output (5,)\n",
      "[0. 0. 0. 0. 0.]\n",
      "\n",
      "1D input: (1000, 12)\n",
      "[[-1.42288862 -1.47504834  0.80085486 ...  0.06290159 -0.61584806\n",
      "  -1.28034799]\n",
      " [-2.73500249 -3.2580864   0.62576899 ...  0.5482206  -0.72209088\n",
      "  -1.39787136]\n",
      " [-2.17748866 -2.70399278  0.26470721 ...  0.57134591 -0.41723553\n",
      "  -0.73992064]\n",
      " ...\n",
      " [-0.98421055 -0.98073281  0.62838778 ... -0.74637617 -0.7433812\n",
      "  -0.62757443]\n",
      " [-0.8644782  -0.93524492  0.38294968 ... -0.67328029 -0.70092678\n",
      "  -0.59953767]\n",
      " [-0.64015558 -0.78533262  0.09117195 ... -0.66615754 -0.6069485\n",
      "  -0.53501577]]\n",
      "\n",
      "2D input: (256, 256)\n"
     ]
    },
    {
     "data": {
      "image/png": "[encoded data removed]",
      "text/plain": [
       "<Figure size 432x288 with 1 Axes>"
      ]
     },
     "metadata": {
      "needs_background": "light"
     },
     "output_type": "display_data"
    }
   ],
   "source": [
    "# View label\n",
    "label = np.load('Processed/model_specific/labels_dev/0.npy')\n",
    "print('Model output', label.shape)\n",
    "print(label)\n",
    "\n",
    "# View RNN input\n",
    "rnn_input = np.load('Processed/model_specific/X_rnn_dev/0.npy')\n",
    "print('\\n1D input:', rnn_input.shape)\n",
    "print(rnn_input)\n",
    "\n",
    "# View CNN input\n",
    "img = plt.imread('Processed/model_specific/X_cnn_dev/0.tif')\n",
    "print('\\n2D input:', img.shape)\n",
    "plt.imshow(img)\n",
    "plt.show()"
   ]
  },
  {
   "cell_type": "markdown",
   "id": "93e09427-a980-4f2a-afb8-4ab96a9d6cda",
   "metadata": {},
   "source": [
    "## 3. Training"
   ]
  },
  {
   "cell_type": "code",
   "execution_count": 10,
   "id": "24ebfd9c-7715-4e51-afdc-989e72777325",
   "metadata": {},
   "outputs": [
    {
     "name": "stdout",
     "output_type": "stream",
     "text": [
      "/home/nepython/projects/COMP6011/Task3/DL_ECG_Classification\n"
     ]
    }
   ],
   "source": [
    "%cd DL_ECG_Classification"
   ]
  },
  {
   "cell_type": "markdown",
   "id": "38c887c7-757d-4094-9ef6-01ba0c2bcdad",
   "metadata": {},
   "source": [
    "### 3.1 1D models"
   ]
  },
  {
   "cell_type": "code",
   "execution_count": 11,
   "id": "ec9c26cf-d38f-487c-b66e-b3091c9566da",
   "metadata": {},
   "outputs": [],
   "source": [
    "import subprocess\n",
    "import time\n",
    "\n",
    "def timed_shell(cmd):\n",
    "    start = time.time()\n",
    "    subprocess.run(cmd, shell=True)\n",
    "    end = time.time()\n",
    "    print(f'⏱️ Time taken: {end - start:.2f} seconds')"
   ]
  },
  {
   "cell_type": "code",
   "execution_count": 21,
   "id": "a5a7546c-e6cf-4077-99f4-4e3e2c459856",
   "metadata": {
    "scrolled": true
   },
   "outputs": [
    {
     "name": "stdout",
     "output_type": "stream",
     "text": [
      "Loading data...\n",
      "Training epoch 1\n",
      "Training loss: 0.9292\n",
      "Valid specificity: 0.1940\n",
      "Valid sensitivity: 0.8005 \n",
      "\n",
      "Training epoch 2\n",
      "Training loss: 0.8730\n",
      "Valid specificity: 0.6024\n",
      "Valid sensitivity: 0.4079 \n",
      "\n",
      "Training epoch 3\n",
      "Training loss: 0.8504\n",
      "Valid specificity: 0.8012\n",
      "Valid sensitivity: 0.2061 \n",
      "\n",
      "Training epoch 4\n",
      "Training loss: 0.8384\n",
      "Valid specificity: 0.5976\n",
      "Valid sensitivity: 0.3921 \n",
      "\n",
      "Training epoch 5\n",
      "Training loss: 0.8313\n",
      "Valid specificity: 0.6000\n",
      "Valid sensitivity: 0.4044 \n",
      "\n",
      "Training epoch 6\n",
      "Training loss: 0.8272\n",
      "Valid specificity: 0.5714\n",
      "Valid sensitivity: 0.4262 \n",
      "\n",
      "Training epoch 7\n",
      "Training loss: 0.8240\n",
      "Valid specificity: 0.7155\n",
      "Valid sensitivity: 0.2977 \n",
      "\n",
      "Training epoch 8\n",
      "Training loss: 0.8219\n",
      "Valid specificity: 0.7969\n",
      "Valid sensitivity: 0.1843 \n",
      "\n",
      "Training epoch 9\n",
      "Training loss: 0.8204\n",
      "Valid specificity: 0.9150\n",
      "Valid sensitivity: 0.0901 \n",
      "\n",
      "Training epoch 10\n",
      "Training loss: 0.8193\n",
      "Valid specificity: 0.7981\n",
      "Valid sensitivity: 0.1904 \n",
      "\n",
      "[[ 38812  24722 269498 189650]\n",
      " [     0  96046      0 426636]\n",
      " [     0  49948      0 472734]\n",
      " [ 37452  52736 176920 255574]\n",
      " [     0  24924      0 497758]]\n",
      "/home/nepython/projects/COMP6011/Task3/DL_ECG_Classification/utils.py:195: RuntimeWarning: invalid value encountered in divide\n",
      "  precision   = np.where((TP + FP) > 0, TP / (TP + FP), 0)\n",
      "/home/nepython/projects/COMP6011/Task3/DL_ECG_Classification/utils.py:196: RuntimeWarning: invalid value encountered in divide\n",
      "  f1          = np.where((precision + sensitivity) > 0, 2 * precision * sensitivity / (precision + sensitivity), 0)\n",
      "       Sensitivity  Specificity  Accuracy  Precision  F1 Score\n",
      "AFIB          0.61         0.41      0.44       0.13      0.21\n",
      "AFLT          0.00         1.00      0.82       0.00      0.00\n",
      "1dAVb         0.00         1.00      0.90       0.00      0.00\n",
      "RBBB          0.42         0.59      0.56       0.17      0.25\n",
      "LBBB          0.00         1.00      0.95       0.00      0.00\n",
      "Mean          0.21         0.80      0.73       0.06      0.09\n"
     ]
    }
   ],
   "source": [
    "## RNN\n",
    "# timed_shell(\"python3 rnn.py -data '../Processed/model_specific/' -epochs 10 -batch_size 256 -path_save_model 'saved_models/' -gpu_id 0 -learning_rate 0.01\")\n",
    "# timed_shell(\"python3 rnn.py -data '../Processed/model_specific/' -epochs 10 -batch_size 512 -path_save_model 'saved_models/' -gpu_id 0 -learning_rate 0.01 -num_layers 2\")\n",
    "!python3 rnn.py -data '../Processed/model_specific/' -epochs 10 -batch_size 512 -path_save_model 'saved_models/' -gpu_id 0 -learning_rate 0.01 -num_layers 2"
   ]
  },
  {
   "cell_type": "code",
   "execution_count": null,
   "id": "55e452b3-4c70-46c3-aec3-9df818ad9776",
   "metadata": {
    "scrolled": true
   },
   "outputs": [
    {
     "name": "stdout",
     "output_type": "stream",
     "text": [
      "Loading data...\n",
      "Training epoch 1\n",
      "Training loss: 1.4131\n",
      "Training epoch 23\n",
      "Training loss: 1.4034\n",
      "eval 929 of 1003"
     ]
    }
   ],
   "source": [
    "## LSTM\n",
    "timed_shell(\"python3 lstm.py -data '../Processed/model_specific/' -epochs 100 -batch_size 256 -path_save_model 'saved_models/' -gpu_id 0 -learning_rate 0.01\")"
   ]
  },
  {
   "cell_type": "code",
   "execution_count": 23,
   "id": "6021fbcf-44f6-4473-ba36-7db54f3f5901",
   "metadata": {
    "scrolled": true
   },
   "outputs": [
    {
     "name": "stdout",
     "output_type": "stream",
     "text": [
      "Loading data...\n",
      "Training epoch 1\n",
      "Training loss: 0.8510\n",
      "Training epoch 2\n",
      "Training loss: 0.6561\n",
      "[[4.960e+02 3.100e+01 9.080e+02 2.882e+03]\n",
      " [8.120e+02 1.300e+01 5.980e+02 2.894e+03]\n",
      " [3.280e+02 4.400e+01 3.240e+02 3.621e+03]\n",
      " [6.300e+02 3.200e+01 2.150e+02 3.440e+03]\n",
      " [1.950e+02 3.000e+00 4.940e+02 3.625e+03]]\n",
      "       Sensitivity  Specificity  Accuracy  Precision  F1 Score\n",
      "AFIB          0.94         0.76      0.78       0.35      0.51\n",
      "AFLT          0.98         0.83      0.86       0.58      0.73\n",
      "1dAVb         0.88         0.92      0.91       0.50      0.64\n",
      "RBBB          0.95         0.94      0.94       0.75      0.84\n",
      "LBBB          0.98         0.88      0.88       0.28      0.44\n",
      "Mean          0.95         0.87      0.88       0.49      0.63\n",
      "⏱️ Time taken: 141.71 seconds\n"
     ]
    }
   ],
   "source": [
    "## GRU\n",
    "timed_shell(\"python3 gru.py -data '../Processed/model_specific/' -epochs 2 -batch_size 256 -path_save_model 'saved_models/' -gpu_id 0 -learning_rate 0.005\")\n",
    "# timed_shell(\"python3 gru_with_attention.py -data '../Processed/model_specific/' -epochs 100 -batch_size 256 -path_save_model 'saved_models/' -gpu_id 0 -learning_rate 0.05\")"
   ]
  },
  {
   "cell_type": "markdown",
   "id": "a2a09617-4c0b-46bf-a4e3-836d4279143e",
   "metadata": {},
   "source": [
    "### 3.2 2D models"
   ]
  },
  {
   "cell_type": "code",
   "execution_count": null,
   "id": "6ed09d1a-f018-4d13-b201-f816bfeabb17",
   "metadata": {
    "scrolled": true
   },
   "outputs": [],
   "source": [
    "## AlexNet\n",
    "timed_shell(\"python3 AlexNet.py -data '../Processed/model_specific/' -epochs 100 -batch_size 256 -path_save_model 'saved_models/' -gpu_id 0 -learning_rate 0.01\")"
   ]
  },
  {
   "cell_type": "code",
   "execution_count": null,
   "id": "3ab8fff3-1127-4a2c-b595-365eab077d3f",
   "metadata": {
    "scrolled": true
   },
   "outputs": [],
   "source": [
    "## VGGNet\n",
    "timed_shell(\"python3 vggnet.py -data '../Processed/model_specific/' -epochs 100 -batch_size 256 -path_save_model 'saved_models/' -gpu_id 0 -learning_rate 0.01\")"
   ]
  },
  {
   "cell_type": "code",
   "execution_count": null,
   "id": "34b0eeef-546c-4c3b-9c2d-9f128e4e1ed4",
   "metadata": {
    "scrolled": true
   },
   "outputs": [],
   "source": [
    "## ResNet\n",
    "timed_shell(\"python3 resnet.py -data '../Processed/model_specific/' -epochs 100 -batch_size 256 -path_save_model 'saved_models/' -gpu_id 0 -learning_rate 0.01\")"
   ]
  },
  {
   "cell_type": "code",
   "execution_count": null,
   "id": "ab636c78-30c4-47e9-a3f8-6febc4595cc7",
   "metadata": {
    "scrolled": true
   },
   "outputs": [],
   "source": [
    "## CNN\n",
    "timed_shell(\"python3 cnn.py -data '../Processed/model_specific/' -epochs 100 -batch_size 256 -path_save_model 'saved_models/' -gpu_id 0 -learning_rate 0.01\")\n",
    "timed_shell(\"python cnn_gru.py -data '../Processed/model_specific/' -epochs 100 -batch_size 256 -path_save_model 'saved_models/' -gpu_id 0 -learning_rate 0.01\")\n",
    "timed_shell(\"python cnn_lstm.py -data '../Processed/model_specific/' -epochs 100 -batch_size 256 -path_save_model 'saved_models/' -gpu_id 0 -learning_rate 0.01\")"
   ]
  },
  {
   "cell_type": "markdown",
   "id": "ba7b4733-77f3-44df-9175-b0ed1473a0cf",
   "metadata": {},
   "source": [
    "### 3.3 Fusion approaches"
   ]
  },
  {
   "cell_type": "markdown",
   "id": "96dde27d-2051-45b9-b6e4-8c35c489271c",
   "metadata": {},
   "source": [
    "Fusion uses 1D and 2D models so let's shift it's best models to new folder Models."
   ]
  },
  {
   "cell_type": "code",
   "execution_count": null,
   "id": "6ed28b1e-fa1f-47b3-89ca-8708a755fc0b",
   "metadata": {},
   "outputs": [],
   "source": [
    "%%bash\n",
    "#!/bin/bash\n",
    "\n",
    "# Define the source and destination directories\n",
    "src_dir=\"saved_models\"\n",
    "dest_dir=\"Models\"\n",
    "\n",
    "# Create an associative array to store the largest file for each unique name\n",
    "declare -A largest_files\n",
    "\n",
    "# Loop through all files matching the pattern\n",
    "for file in \"$src_dir\"/*_ep_*; do\n",
    "  # Extract the base name (excluding ep_{n})\n",
    "  base_name=$(basename \"$file\" | sed 's/_ep_[0-9]*//')\n",
    "  \n",
    "  # Check if this base name already has a file stored\n",
    "  if [[ -z \"${largest_files[$base_name]}\" ]]; then\n",
    "    largest_files[$base_name]=\"$file\"\n",
    "  else\n",
    "    # Compare the current file with the stored file to find the one with the largest 'n'\n",
    "    current_n=$(basename \"$file\" | sed 's/.*_ep_\\([0-9]*\\).*/\\1/')\n",
    "    stored_n=$(basename \"${largest_files[$base_name]}\" | sed 's/.*_ep_\\([0-9]*\\).*/\\1/')\n",
    "    \n",
    "    if (( current_n > stored_n )); then\n",
    "      largest_files[$base_name]=\"$file\"\n",
    "    fi\n",
    "  fi\n",
    "done\n",
    "\n",
    "# Copy the largest files to the new location and rename them\n",
    "for base_name in \"${!largest_files[@]}\"; do\n",
    "  cp \"${largest_files[$base_name]}\" \"$dest_dir/$base_name\"\n",
    "done"
   ]
  },
  {
   "cell_type": "code",
   "execution_count": null,
   "id": "f41ac7dc",
   "metadata": {
    "scrolled": true
   },
   "outputs": [],
   "source": [
    "timed_shell(\"python early_fusion.py -signal_data '../Processed/model_specific/' -image_data '../Processed/model_specific/' -signal_model=gru -image_model=alexnet -epochs 100 -batch_size 256 -path_save_model 'saved_models/' -gpu_id 0 -learning_rate 0.01\")"
   ]
  },
  {
   "cell_type": "code",
   "execution_count": null,
   "id": "d81fe2e3-627b-4d0f-97a6-b0ebaf7b9bfd",
   "metadata": {
    "scrolled": true
   },
   "outputs": [],
   "source": [
    "timed_shell(\"python late_fusion.py -signal_data '../Processed/model_specific/' -image_data '../Processed/model_specific/' -signal_model=gru -image_model=alexnet -epochs 100 -batch_size 256 -path_save_model 'saved_models/' -gpu_id 0 -learning_rate 0.01\")"
   ]
  },
  {
   "cell_type": "code",
   "execution_count": null,
   "id": "43fb040a-349d-4a22-9b6d-9ab94815ede5",
   "metadata": {
    "scrolled": true
   },
   "outputs": [],
   "source": [
    "timed_shell(\"python joint_fusion.py -signal_data '../Processed/model_specific/' -image_data '../Processed/model_specific/' -signal_model=gru -image_model=alexnet -epochs 100 -batch_size 256 -path_save_model 'saved_models/' -gpu_id 0 -learning_rate 0.01\")"
   ]
  },
  {
   "cell_type": "markdown",
   "id": "9a7a2d5b-55de-4752-844a-358544ea5df8",
   "metadata": {},
   "source": [
    "## Evaluation"
   ]
  },
  {
   "cell_type": "markdown",
   "id": "512b477d-09fb-470e-a778-30df13cb9e9a",
   "metadata": {},
   "source": [
    "First, move best models to a separate directory"
   ]
  },
  {
   "cell_type": "code",
   "execution_count": 173,
   "id": "4f386112-077e-4c88-8e2a-1c6edfd76123",
   "metadata": {},
   "outputs": [],
   "source": [
    "%%bash\n",
    "#!/bin/bash\n",
    "\n",
    "# Define the source and destination directories\n",
    "src_dir=\"saved_models\"\n",
    "dest_dir=\"Models\"\n",
    "\n",
    "# Create an associative array to store the largest file for each unique name\n",
    "declare -A largest_files\n",
    "\n",
    "# Loop through all files matching the pattern\n",
    "for file in \"$src_dir\"/*_ep_*; do\n",
    "  # Extract the base name (excluding ep_{n})\n",
    "  base_name=$(basename \"$file\" | sed 's/_ep_[0-9]*//')\n",
    "  \n",
    "  # Check if this base name already has a file stored\n",
    "  if [[ -z \"${largest_files[$base_name]}\" ]]; then\n",
    "    largest_files[$base_name]=\"$file\"\n",
    "  else\n",
    "    # Compare the current file with the stored file to find the one with the largest 'n'\n",
    "    current_n=$(basename \"$file\" | sed 's/.*_ep_\\([0-9]*\\).*/\\1/')\n",
    "    stored_n=$(basename \"${largest_files[$base_name]}\" | sed 's/.*_ep_\\([0-9]*\\).*/\\1/')\n",
    "    \n",
    "    if (( current_n > stored_n )); then\n",
    "      largest_files[$base_name]=\"$file\"\n",
    "    fi\n",
    "  fi\n",
    "done\n",
    "\n",
    "# Copy the largest files to the new location and rename them\n",
    "for base_name in \"${!largest_files[@]}\"; do\n",
    "  cp \"${largest_files[$base_name]}\" \"$dest_dir/$base_name\"\n",
    "done"
   ]
  },
  {
   "cell_type": "code",
   "execution_count": 26,
   "id": "9c1efe63-60c8-4ebe-8035-8870d6845226",
   "metadata": {
    "scrolled": true
   },
   "outputs": [
    {
     "name": "stdout",
     "output_type": "stream",
     "text": [
      "[[0. 0. 0. 0. 0.]]\n",
      "[[0. 0. 0. 0. 0.]]\n",
      "\n",
      "[[0. 1. 0. 0. 0.]]\n",
      "[[0. 0. 0. 0. 0.]]\n",
      "\n",
      "[[0. 0. 1. 0. 0.]]\n",
      "[[0. 0. 0. 0. 0.]]\n",
      "\n",
      "[[1. 0. 0. 0. 0.]]\n",
      "[[1. 0. 1. 0. 0.]]\n",
      "\n",
      "[[0. 0. 0. 1. 0.]]\n",
      "[[0. 0. 0. 1. 0.]]\n",
      "\n",
      "[[0. 0. 0. 0. 1.]]\n",
      "[[0. 0. 1. 0. 1.]]\n",
      "\n",
      "[[1. 0. 0. 5.]\n",
      " [0. 1. 0. 5.]\n",
      " [0. 1. 2. 3.]\n",
      " [1. 0. 0. 5.]\n",
      " [1. 0. 0. 5.]]\n",
      "/home/nepython/projects/COMP6011/Task3/DL_ECG_Classification/utils.py:195: RuntimeWarning: invalid value encountered in divide\n",
      "  precision   = np.where((TP + FP) > 0, TP / (TP + FP), 0)\n",
      "/home/nepython/projects/COMP6011/Task3/DL_ECG_Classification/utils.py:196: RuntimeWarning: invalid value encountered in divide\n",
      "  f1          = np.where((precision + sensitivity) > 0, 2 * precision * sensitivity / (precision + sensitivity), 0)\n",
      "       Sensitivity  Specificity  Accuracy  Precision  F1 Score\n",
      "AFIB           1.0         1.00      1.00        1.0       1.0\n",
      "AFLT           0.0         1.00      0.83        0.0       0.0\n",
      "1dAVb          0.0         0.60      0.50        0.0       0.0\n",
      "RBBB           1.0         1.00      1.00        1.0       1.0\n",
      "LBBB           1.0         1.00      1.00        1.0       1.0\n",
      "Mean           0.6         0.92      0.87        0.6       0.6\n"
     ]
    }
   ],
   "source": [
    "!python eval_saved_models.py -gpu_id 0 \\\n",
    "    -model gru \\\n",
    "    -path saved_models/GRU_ep_2 \\\n",
    "    -data ../validation/Processed/model_specific/"
   ]
  },
  {
   "cell_type": "code",
   "execution_count": 92,
   "id": "013b6540-e092-45e1-b230-0fa10ebc4d2e",
   "metadata": {},
   "outputs": [
    {
     "data": {
      "text/plain": [
       "array([1., 0., 0., 0.])"
      ]
     },
     "execution_count": 92,
     "metadata": {},
     "output_type": "execute_result"
    }
   ],
   "source": []
  },
  {
   "cell_type": "code",
   "execution_count": null,
   "id": "87e99f80-3719-4926-a582-083c5a3eacc5",
   "metadata": {},
   "outputs": [],
   "source": []
  }
 ],
 "metadata": {
  "kernelspec": {
   "display_name": "Python 3 (ipykernel)",
   "language": "python",
   "name": "python3"
  },
  "language_info": {
   "codemirror_mode": {
    "name": "ipython",
    "version": 3
   },
   "file_extension": ".py",
   "mimetype": "text/x-python",
   "name": "python",
   "nbconvert_exporter": "python",
   "pygments_lexer": "ipython3",
   "version": "3.10.12"
  }
 },
 "nbformat": 4,
 "nbformat_minor": 5
}
