{
 "cells": [
  {
   "cell_type": "markdown",
   "id": "6c9a3b58-1fc5-408d-bac8-3ec1b07570c1",
   "metadata": {},
   "source": [
    "## Computing in Cardiology challenge 2021\n",
    "\n",
    "https://physionet.org/content/challenge-2021/1.0.3/#files-panel"
   ]
  },
  {
   "cell_type": "code",
   "execution_count": null,
   "id": "423458db-6d38-4c55-92cd-0d5461bfaf66",
   "metadata": {},
   "outputs": [],
   "source": [
    "!wget -r -N -c -np https://physionet.org/files/challenge-2021/1.0.3/"
   ]
  },
  {
   "cell_type": "code",
   "execution_count": 40,
   "id": "dc38805b-12fd-4656-bbaa-bee7630a305f",
   "metadata": {},
   "outputs": [],
   "source": [
    "import json\n",
    "import numpy as np\n",
    "import os\n",
    "import pandas as pd\n",
    "import wfdb\n",
    "from scipy.signal import resample\n",
    "from tqdm import tqdm"
   ]
  },
  {
   "cell_type": "markdown",
   "id": "8e52bd81-5784-4ecc-b838-d00d34d3b8bf",
   "metadata": {},
   "source": [
    "## SNOMED IDs\n",
    "\n",
    "Cardiology Challenge-2021 provides diagnosis information as [SNOMED IDs](http://bioportal.bioontology.org/ontologies/SNOMEDCT)."
   ]
  },
  {
   "cell_type": "code",
   "execution_count": 16,
   "id": "7076162a-b64d-4348-90f8-daa616b4e538",
   "metadata": {},
   "outputs": [],
   "source": [
    "snomed_ids = {\n",
    "    '164889003': 'AFIB',\n",
    "    '164890007': 'AFLT',\n",
    "    '59118001': 'RBBB',\n",
    "    '164909002': 'LBBB',\n",
    "    # Complete\n",
    "    '713427006': 'RBBB',\n",
    "    # Incomplete\n",
    "    '251120003': 'LBBB',\n",
    "    '713426002': 'RBBB',\n",
    "    '270492004': '1dAVB',\n",
    "    '426783006': 'NORM', # may need correction\n",
    "}"
   ]
  },
  {
   "cell_type": "markdown",
   "id": "5a614f56-1af8-4499-8525-984e7f61b079",
   "metadata": {},
   "source": [
    "## Utility method\n",
    "\n",
    "1) Skip records less than 10s or less than 100Hz\n",
    "2) Skip records having diagnosis condition outside our requirement\n",
    "3) Reduce frequency to 100Hz\n",
    "4) Reduce duration to 10s\n",
    "5) Save"
   ]
  },
  {
   "cell_type": "code",
   "execution_count": 102,
   "id": "852675c5-0d5c-4377-ba75-7a60ae6bd20a",
   "metadata": {},
   "outputs": [],
   "source": [
    "def process_ecg(patient_file, save_as, target_freq=100, target_s=10):\n",
    "    # Read the record\n",
    "    record = wfdb.rdrecord(patient_file)\n",
    "    data = record.p_signal  # Shape: (5000, 12) for a 10s recording at 500Hz\n",
    "\n",
    "    # --- Step 1: Extract record details ---\n",
    "    details = {}\n",
    "    for comment in record.comments:\n",
    "        if ':' in comment:\n",
    "            key, value = comment.split(':', 1)\n",
    "            details[key.strip()] = value.strip()\n",
    "\n",
    "    original_freq = record.fs\n",
    "    original_len = data.shape[0]\n",
    "    original_s = original_len / original_freq\n",
    "\n",
    "    patient_age = details.get(\"Age\", None)\n",
    "    patient_sex = details.get(\"Sex\", None)\n",
    "    dx_list = details.get(\"Dx\", list())\n",
    "\n",
    "    # --- Step 2: Skip records having low freq, duration or diagnosis other than specified ---\n",
    "    diagnosis = [snomed_ids[dx] for dx in dx_list.split(\",\") if dx in snomed_ids]\n",
    "    if (\n",
    "        original_freq < target_freq or\n",
    "        original_s < target_s or\n",
    "        record.n_sig != 12 or\n",
    "        not diagnosis\n",
    "    ):\n",
    "        return False\n",
    "\n",
    "    # Cleaning\n",
    "    diagnosis.sort()\n",
    "    # If both CRBBB and IRBBB are specified for a case,\n",
    "    # can lead to RBBB being put in twice in diagnosis\n",
    "    diagnosis = list(set(diagnosis))\n",
    "    # NORM should only be present if no other condition diagnosed\n",
    "    if 'NORM' in diagnosis and len(diagnosis)>1:\n",
    "        diagnosis.remove('NORM')\n",
    "\n",
    "    # --- Step 3: Resample and crop ---\n",
    "    # Resample to 100Hz\n",
    "    num_target_samples = int((original_len / original_freq) * target_freq)\n",
    "    data_downsampled = resample(data, num_target_samples)\n",
    "\n",
    "    # Crop to 10s in the middle (10s * 100Hz = 1000 samples)\n",
    "    crop_len = target_s * target_freq\n",
    "    skipped_window = 0\n",
    "    for i in range (0, num_target_samples//crop_len):\n",
    "        if i - skipped_window > 10: break\n",
    "        data_cropped = data_downsampled[i*crop_len:(i+1)*crop_len]\n",
    "        # Skip periods having missing leads\n",
    "        if any(\n",
    "            data_cropped[:, lead].min() == 0 and\n",
    "            data_cropped[:, lead].max() == 0\n",
    "            for lead in range(12)\n",
    "        ):\n",
    "            skipped_window += 1\n",
    "            continue\n",
    "\n",
    "        # Save the new data using wfdb\n",
    "        record_name = os.path.basename(save_as)+(f'_{i}' if (i-skipped_window) > 0 else '')\n",
    "        record_dir = os.path.dirname(save_as)+('/extra' if (i-skipped_window) > 0 else '')\n",
    "        original_cwd = os.getcwd()\n",
    "        os.chdir(record_dir)\n",
    "        wfdb.wrsamp(\n",
    "            record_name=record_name,\n",
    "            fs=target_freq,\n",
    "            units=record.units,\n",
    "            sig_name=record.sig_name,\n",
    "            p_signal=data_cropped,\n",
    "            fmt=['16'] * record.n_sig,\n",
    "            comments=[\n",
    "                f\"Age: {patient_age}\",\n",
    "                f\"Sex: {patient_sex}\",\n",
    "                f\"Diagnosis: {','.join(diagnosis)}\",\n",
    "            ]\n",
    "        )\n",
    "        os.chdir(original_cwd)\n",
    "\n",
    "    return True"
   ]
  },
  {
   "cell_type": "markdown",
   "id": "f8bf3256-b9c3-4ce3-8e9b-e01ff06c0660",
   "metadata": {},
   "source": [
    "## Preprocess"
   ]
  },
  {
   "cell_type": "code",
   "execution_count": 107,
   "id": "ec883d7b-8026-42fc-a80b-ec134aa480d8",
   "metadata": {},
   "outputs": [],
   "source": [
    "root_dir = 'physionet.org/files/challenge-2021/1.0.3/training/'\n",
    "results_dir = 'challenge-2021'\n",
    "extra_dir = os.path.join(results_dir, 'extra') # stores cropping after 10s\n",
    "os.makedirs(results_dir, exist_ok=True)\n",
    "os.makedirs(extra_dir, exist_ok=True)"
   ]
  },
  {
   "cell_type": "code",
   "execution_count": 108,
   "id": "983507a1-8aa4-4142-92ff-ee6eb24ca5d8",
   "metadata": {
    "scrolled": true
   },
   "outputs": [
    {
     "name": "stderr",
     "output_type": "stream",
     "text": [
      "st_petersburg_incart: 100%|████████████████████████████████████████████████████████████████| 2/2 [00:00<00:00, 13706.88it/s]\n",
      "ptb-xl: 100%|████████████████████████████████████████████████████████████████████████████| 23/23 [00:00<00:00, 68955.68it/s]\n",
      "cpsc_2018_extra: 100%|████████████████████████████████████████████████████████████████████████| 5/5 [00:08<00:00,  1.70s/it]\n",
      "cpsc_2018: 100%|██████████████████████████████████████████████████████████████████████████████| 8/8 [00:44<00:00,  5.62s/it]\n",
      "ptb: 100%|█████████████████████████████████████████████████████████████████████████████████| 2/2 [00:00<00:00, 26379.27it/s]\n",
      "ningbo: 100%|███████████████████████████████████████████████████████████████████████████| 36/36 [00:00<00:00, 110134.90it/s]\n",
      "chapman_shaoxing: 100%|█████████████████████████████████████████████████████████████████████| 12/12 [00:37<00:00,  3.17s/it]\n",
      "georgia:   8%|██████▌                                                                        | 1/12 [00:02<00:22,  2.08s/it]\n"
     ]
    },
    {
     "ename": "ValueError",
     "evalue": "cannot reshape array of size 48958 into shape (12)",
     "output_type": "error",
     "traceback": [
      "\u001b[0;31m---------------------------------------------------------------------------\u001b[0m",
      "\u001b[0;31mValueError\u001b[0m                                Traceback (most recent call last)",
      "\u001b[0;32m/tmp/ipykernel_1906768/3735107075.py\u001b[0m in \u001b[0;36m<module>\u001b[0;34m\u001b[0m\n\u001b[1;32m     12\u001b[0m             \u001b[0mpid\u001b[0m \u001b[0;34m=\u001b[0m \u001b[0mpid\u001b[0m\u001b[0;34m.\u001b[0m\u001b[0msplit\u001b[0m\u001b[0;34m(\u001b[0m\u001b[0;34m'.'\u001b[0m\u001b[0;34m)\u001b[0m\u001b[0;34m[\u001b[0m\u001b[0;36m0\u001b[0m\u001b[0;34m]\u001b[0m\u001b[0;34m\u001b[0m\u001b[0;34m\u001b[0m\u001b[0m\n\u001b[1;32m     13\u001b[0m             \u001b[0mpatient_file\u001b[0m \u001b[0;34m=\u001b[0m \u001b[0mos\u001b[0m\u001b[0;34m.\u001b[0m\u001b[0mpath\u001b[0m\u001b[0;34m.\u001b[0m\u001b[0mjoin\u001b[0m\u001b[0;34m(\u001b[0m\u001b[0mgroup_path\u001b[0m\u001b[0;34m,\u001b[0m \u001b[0mpid\u001b[0m\u001b[0;34m)\u001b[0m\u001b[0;34m\u001b[0m\u001b[0;34m\u001b[0m\u001b[0m\n\u001b[0;32m---> 14\u001b[0;31m             process_ecg(\n\u001b[0m\u001b[1;32m     15\u001b[0m                 \u001b[0mpatient_file\u001b[0m\u001b[0;34m=\u001b[0m\u001b[0mpatient_file\u001b[0m\u001b[0;34m,\u001b[0m\u001b[0;34m\u001b[0m\u001b[0;34m\u001b[0m\u001b[0m\n\u001b[1;32m     16\u001b[0m                 \u001b[0msave_as\u001b[0m\u001b[0;34m=\u001b[0m\u001b[0;34mf'{results_dir}/{dataset}_{group}_{pid}'\u001b[0m\u001b[0;34m,\u001b[0m\u001b[0;34m\u001b[0m\u001b[0;34m\u001b[0m\u001b[0m\n",
      "\u001b[0;32m/tmp/ipykernel_1906768/949032251.py\u001b[0m in \u001b[0;36mprocess_ecg\u001b[0;34m(patient_file, save_as, target_freq, target_s)\u001b[0m\n\u001b[1;32m      1\u001b[0m \u001b[0;32mdef\u001b[0m \u001b[0mprocess_ecg\u001b[0m\u001b[0;34m(\u001b[0m\u001b[0mpatient_file\u001b[0m\u001b[0;34m,\u001b[0m \u001b[0msave_as\u001b[0m\u001b[0;34m,\u001b[0m \u001b[0mtarget_freq\u001b[0m\u001b[0;34m=\u001b[0m\u001b[0;36m100\u001b[0m\u001b[0;34m,\u001b[0m \u001b[0mtarget_s\u001b[0m\u001b[0;34m=\u001b[0m\u001b[0;36m10\u001b[0m\u001b[0;34m)\u001b[0m\u001b[0;34m:\u001b[0m\u001b[0;34m\u001b[0m\u001b[0;34m\u001b[0m\u001b[0m\n\u001b[1;32m      2\u001b[0m     \u001b[0;31m# Read the record\u001b[0m\u001b[0;34m\u001b[0m\u001b[0;34m\u001b[0m\u001b[0m\n\u001b[0;32m----> 3\u001b[0;31m     \u001b[0mrecord\u001b[0m \u001b[0;34m=\u001b[0m \u001b[0mwfdb\u001b[0m\u001b[0;34m.\u001b[0m\u001b[0mrdrecord\u001b[0m\u001b[0;34m(\u001b[0m\u001b[0mpatient_file\u001b[0m\u001b[0;34m)\u001b[0m\u001b[0;34m\u001b[0m\u001b[0;34m\u001b[0m\u001b[0m\n\u001b[0m\u001b[1;32m      4\u001b[0m     \u001b[0mdata\u001b[0m \u001b[0;34m=\u001b[0m \u001b[0mrecord\u001b[0m\u001b[0;34m.\u001b[0m\u001b[0mp_signal\u001b[0m  \u001b[0;31m# Shape: (5000, 12) for a 10s recording at 500Hz\u001b[0m\u001b[0;34m\u001b[0m\u001b[0;34m\u001b[0m\u001b[0m\n\u001b[1;32m      5\u001b[0m \u001b[0;34m\u001b[0m\u001b[0m\n",
      "\u001b[0;32m~/.local/lib/python3.10/site-packages/wfdb/io/record.py\u001b[0m in \u001b[0;36mrdrecord\u001b[0;34m(record_name, sampfrom, sampto, channels, physical, pn_dir, m2s, smooth_frames, ignore_skew, return_res, force_channels, channel_names, warn_empty)\u001b[0m\n\u001b[1;32m   2133\u001b[0m         \u001b[0msig_data\u001b[0m \u001b[0;34m=\u001b[0m \u001b[0;32mNone\u001b[0m\u001b[0;34m\u001b[0m\u001b[0;34m\u001b[0m\u001b[0m\n\u001b[1;32m   2134\u001b[0m \u001b[0;34m\u001b[0m\u001b[0m\n\u001b[0;32m-> 2135\u001b[0;31m         record.e_d_signal = _signal._rd_segment(\n\u001b[0m\u001b[1;32m   2136\u001b[0m             \u001b[0mfile_name\u001b[0m\u001b[0;34m=\u001b[0m\u001b[0mrecord\u001b[0m\u001b[0;34m.\u001b[0m\u001b[0mfile_name\u001b[0m\u001b[0;34m,\u001b[0m\u001b[0;34m\u001b[0m\u001b[0;34m\u001b[0m\u001b[0m\n\u001b[1;32m   2137\u001b[0m             \u001b[0mdir_name\u001b[0m\u001b[0;34m=\u001b[0m\u001b[0mdir_name\u001b[0m\u001b[0;34m,\u001b[0m\u001b[0;34m\u001b[0m\u001b[0;34m\u001b[0m\u001b[0m\n",
      "\u001b[0;32m~/.local/lib/python3.10/site-packages/wfdb/io/_signal.py\u001b[0m in \u001b[0;36m_rd_segment\u001b[0;34m(file_name, dir_name, pn_dir, fmt, n_sig, sig_len, byte_offset, samps_per_frame, skew, init_value, sampfrom, sampto, channels, ignore_skew, no_file, sig_data, return_res)\u001b[0m\n\u001b[1;32m   1250\u001b[0m     \u001b[0;32mfor\u001b[0m \u001b[0mfn\u001b[0m \u001b[0;32min\u001b[0m \u001b[0mw_file_name\u001b[0m\u001b[0;34m:\u001b[0m\u001b[0;34m\u001b[0m\u001b[0;34m\u001b[0m\u001b[0m\n\u001b[1;32m   1251\u001b[0m         \u001b[0;31m# Get the list of all signals contained in the dat file\u001b[0m\u001b[0;34m\u001b[0m\u001b[0;34m\u001b[0m\u001b[0m\n\u001b[0;32m-> 1252\u001b[0;31m         datsignals = _rd_dat_signals(\n\u001b[0m\u001b[1;32m   1253\u001b[0m             \u001b[0mfile_name\u001b[0m\u001b[0;34m=\u001b[0m\u001b[0mfn\u001b[0m\u001b[0;34m,\u001b[0m\u001b[0;34m\u001b[0m\u001b[0;34m\u001b[0m\u001b[0m\n\u001b[1;32m   1254\u001b[0m             \u001b[0mdir_name\u001b[0m\u001b[0;34m=\u001b[0m\u001b[0mdir_name\u001b[0m\u001b[0;34m,\u001b[0m\u001b[0;34m\u001b[0m\u001b[0;34m\u001b[0m\u001b[0m\n",
      "\u001b[0;32m~/.local/lib/python3.10/site-packages/wfdb/io/_signal.py\u001b[0m in \u001b[0;36m_rd_dat_signals\u001b[0;34m(file_name, dir_name, pn_dir, fmt, n_sig, sig_len, byte_offset, samps_per_frame, skew, init_value, sampfrom, sampto, no_file, sig_data)\u001b[0m\n\u001b[1;32m   1468\u001b[0m     \u001b[0msignal\u001b[0m \u001b[0;34m=\u001b[0m \u001b[0;34m[\u001b[0m\u001b[0;34m]\u001b[0m\u001b[0;34m\u001b[0m\u001b[0;34m\u001b[0m\u001b[0m\n\u001b[1;32m   1469\u001b[0m     \u001b[0;31m# Transfer over samples\u001b[0m\u001b[0;34m\u001b[0m\u001b[0;34m\u001b[0m\u001b[0m\n\u001b[0;32m-> 1470\u001b[0;31m     \u001b[0msig_frames\u001b[0m \u001b[0;34m=\u001b[0m \u001b[0msig_data\u001b[0m\u001b[0;34m.\u001b[0m\u001b[0mreshape\u001b[0m\u001b[0;34m(\u001b[0m\u001b[0;34m-\u001b[0m\u001b[0;36m1\u001b[0m\u001b[0;34m,\u001b[0m \u001b[0mtsamps_per_frame\u001b[0m\u001b[0;34m)\u001b[0m\u001b[0;34m\u001b[0m\u001b[0;34m\u001b[0m\u001b[0m\n\u001b[0m\u001b[1;32m   1471\u001b[0m     \u001b[0mch_start\u001b[0m \u001b[0;34m=\u001b[0m \u001b[0;36m0\u001b[0m\u001b[0;34m\u001b[0m\u001b[0;34m\u001b[0m\u001b[0m\n\u001b[1;32m   1472\u001b[0m     \u001b[0;32mfor\u001b[0m \u001b[0mch\u001b[0m \u001b[0;32min\u001b[0m \u001b[0mrange\u001b[0m\u001b[0;34m(\u001b[0m\u001b[0mn_sig\u001b[0m\u001b[0;34m)\u001b[0m\u001b[0;34m:\u001b[0m\u001b[0;34m\u001b[0m\u001b[0;34m\u001b[0m\u001b[0m\n",
      "\u001b[0;31mValueError\u001b[0m: cannot reshape array of size 48958 into shape (12)"
     ]
    }
   ],
   "source": [
    "for dataset in os.listdir(root_dir):\n",
    "    dataset_path = os.path.join(root_dir, dataset)\n",
    "    if not os.path.isdir(dataset_path) or dataset.startswith('.ipynb'):\n",
    "        continue\n",
    "    for group in tqdm(os.listdir(dataset_path), desc=dataset):\n",
    "        group_path = os.path.join(dataset_path, group)\n",
    "        if not os.path.isdir(group_path) or group.startswith('.ipynb'):\n",
    "            continue\n",
    "        for pid in os.listdir(group_path):\n",
    "            if not pid.endswith('.hea'):\n",
    "                continue\n",
    "            pid = pid.split('.')[0]\n",
    "            patient_file = os.path.join(group_path, pid)\n",
    "            process_ecg(\n",
    "                patient_file=patient_file,\n",
    "                save_as=f'{results_dir}/{dataset}_{group}_{pid}',\n",
    "                target_freq=100,\n",
    "                target_s=10\n",
    "            )"
   ]
  },
  {
   "cell_type": "markdown",
   "id": "f430097a-0d0b-4075-9f71-1dda0154322d",
   "metadata": {},
   "source": [
    "## View distribution\n",
    "### 1. Original records"
   ]
  },
  {
   "cell_type": "code",
   "execution_count": 110,
   "id": "bd44ae4a-b3ed-4899-abf2-23c9c42f973e",
   "metadata": {
    "scrolled": true
   },
   "outputs": [
    {
     "name": "stderr",
     "output_type": "stream",
     "text": [
      "Cases: 100%|████████████████████████████████████████████████████████████████████████| 20055/20055 [00:10<00:00, 1900.01it/s]\n"
     ]
    }
   ],
   "source": [
    "diagnosis_list = list()\n",
    "diagnosis_freq = dict()\n",
    "\n",
    "for pid in tqdm(os.listdir(results_dir), desc='Cases'):\n",
    "    if pid.startswith('.ipynb') or not pid.endswith('.hea'):\n",
    "        continue\n",
    "    patient_file = os.path.join(results_dir, pid.split('.')[0])\n",
    "    record = wfdb.rdrecord(patient_file)\n",
    "    _, labels = record.comments[2].split(': ')\n",
    "    if labels not in diagnosis_freq:\n",
    "        diagnosis_freq[labels] = 0\n",
    "    diagnosis_freq[labels] += 1\n",
    "    diagnosis_list.append({\n",
    "        'filename_lr': patient_file,\n",
    "        'scp_codes': labels.split(',')\n",
    "    })"
   ]
  },
  {
   "cell_type": "code",
   "execution_count": 111,
   "id": "fd1597e7-3d34-46b2-9d10-7906a3a2d67a",
   "metadata": {},
   "outputs": [],
   "source": [
    "# Save diagnosis as a df for easier retrieval\n",
    "df = pd.DataFrame(diagnosis_list)\n",
    "df.to_csv(f'{results_dir}/records.csv', index=False)"
   ]
  },
  {
   "cell_type": "code",
   "execution_count": 112,
   "id": "601ec303-30d0-46ae-95ce-2fc68f62594a",
   "metadata": {},
   "outputs": [
    {
     "data": {
      "text/plain": [
       "{'NORM': 2795,\n",
       " 'AFIB': 2754,\n",
       " 'RBBB': 2054,\n",
       " '1dAVB': 1054,\n",
       " 'AFLT': 425,\n",
       " 'LBBB': 355,\n",
       " 'AFIB,RBBB': 317,\n",
       " 'AFIB,LBBB': 96,\n",
       " 'RBBB,AFLT': 50,\n",
       " 'RBBB,1dAVB': 41,\n",
       " 'LBBB,1dAVB': 23,\n",
       " 'LBBB,AFLT': 22,\n",
       " 'RBBB,LBBB': 18,\n",
       " 'AFIB,RBBB,LBBB': 9,\n",
       " 'RBBB,LBBB,AFLT': 7,\n",
       " 'AFIB,1dAVB': 4,\n",
       " 'RBBB,LBBB,1dAVB': 3}"
      ]
     },
     "execution_count": 112,
     "metadata": {},
     "output_type": "execute_result"
    }
   ],
   "source": [
    "# Sort by values\n",
    "diagnosis_freq = {k: v for k, v in sorted(diagnosis_freq.items(), key=lambda item: item[1], reverse=True)}\n",
    "diagnosis_freq"
   ]
  },
  {
   "cell_type": "markdown",
   "id": "4f9f4d30-e138-467a-9162-62d1ecdf11f8",
   "metadata": {},
   "source": [
    "### 2. Additional records"
   ]
  },
  {
   "cell_type": "code",
   "execution_count": 61,
   "id": "6c42d404-8d4f-4941-ba8e-0e4763d3e4a2",
   "metadata": {
    "scrolled": true
   },
   "outputs": [
    {
     "name": "stderr",
     "output_type": "stream",
     "text": [
      "Cases: 100%|██████████████████████████████████████████████████████████████████████████| 3034/3034 [00:01<00:00, 1862.10it/s]\n"
     ]
    }
   ],
   "source": [
    "diagnosis_freq = dict()\n",
    "\n",
    "for pid in tqdm(os.listdir(extra_dir), desc='Cases'):\n",
    "    if pid.startswith('.ipynb') or not pid.endswith('.hea'):\n",
    "        continue\n",
    "    patient_file = os.path.join(extra_dir, pid.split('.')[0])\n",
    "    record = wfdb.rdrecord(patient_file)\n",
    "    \n",
    "    # pretty_json = json.dumps(header_info, indent=4)\n",
    "    _, labels = record.comments[2].split(': ')\n",
    "    if labels not in diagnosis_freq:\n",
    "        diagnosis_freq[labels] = 0\n",
    "    diagnosis_freq[labels] += 1"
   ]
  },
  {
   "cell_type": "code",
   "execution_count": 62,
   "id": "7e76aa3a-2724-4830-9726-bf88510477bd",
   "metadata": {},
   "outputs": [
    {
     "data": {
      "text/plain": [
       "{'RBBB': 501,\n",
       " 'AFIB': 367,\n",
       " 'NORM': 284,\n",
       " '1dAVB': 181,\n",
       " 'LBBB': 81,\n",
       " 'AFIB,RBBB': 42,\n",
       " 'AFLT': 28,\n",
       " 'RBBB,1dAVB': 15,\n",
       " 'AFIB,LBBB': 9,\n",
       " 'AFIB,1dAVB': 5,\n",
       " 'LBBB,1dAVB': 4}"
      ]
     },
     "execution_count": 62,
     "metadata": {},
     "output_type": "execute_result"
    }
   ],
   "source": [
    "# Sort by values\n",
    "diagnosis_freq = {k: v for k, v in sorted(diagnosis_freq.items(), key=lambda item: item[1], reverse=True)}\n",
    "diagnosis_freq"
   ]
  },
  {
   "cell_type": "markdown",
   "id": "d540d0b5-9f31-4588-ae86-14249f03797c",
   "metadata": {
    "jp-MarkdownHeadingCollapsed": true
   },
   "source": [
    "## View record (optional)"
   ]
  },
  {
   "cell_type": "code",
   "execution_count": 7,
   "id": "56096c22-1607-4330-b67f-bbc0f1d1b436",
   "metadata": {
    "scrolled": true
   },
   "outputs": [
    {
     "name": "stdout",
     "output_type": "stream",
     "text": [
      "{\n",
      "    \"record_name\": \"chapman_shaoxing_g1_JS00001\",\n",
      "    \"n_sig\": 12,\n",
      "    \"fs\": 100,\n",
      "    \"counter_freq\": null,\n",
      "    \"base_counter\": null,\n",
      "    \"sig_len\": 1000,\n",
      "    \"base_time\": null,\n",
      "    \"base_date\": null,\n",
      "    \"comments\": [\n",
      "        \"Age: 85\",\n",
      "        \"Sex: Male\",\n",
      "        \"Diagnosis: AFIB\"\n",
      "    ],\n",
      "    \"sig_name\": [\n",
      "        \"I\",\n",
      "        \"II\",\n",
      "        \"III\",\n",
      "        \"aVR\",\n",
      "        \"aVL\",\n",
      "        \"aVF\",\n",
      "        \"V1\",\n",
      "        \"V2\",\n",
      "        \"V3\",\n",
      "        \"V4\",\n",
      "        \"V5\",\n",
      "        \"V6\"\n",
      "    ],\n",
      "    \"d_signal\": null,\n",
      "    \"e_p_signal\": null,\n",
      "    \"e_d_signal\": null,\n",
      "    \"file_name\": [\n",
      "        \"chapman_shaoxing_g1_JS00001.dat\",\n",
      "        \"chapman_shaoxing_g1_JS00001.dat\",\n",
      "        \"chapman_shaoxing_g1_JS00001.dat\",\n",
      "        \"chapman_shaoxing_g1_JS00001.dat\",\n",
      "        \"chapman_shaoxing_g1_JS00001.dat\",\n",
      "        \"chapman_shaoxing_g1_JS00001.dat\",\n",
      "        \"chapman_shaoxing_g1_JS00001.dat\",\n",
      "        \"chapman_shaoxing_g1_JS00001.dat\",\n",
      "        \"chapman_shaoxing_g1_JS00001.dat\",\n",
      "        \"chapman_shaoxing_g1_JS00001.dat\",\n",
      "        \"chapman_shaoxing_g1_JS00001.dat\",\n",
      "        \"chapman_shaoxing_g1_JS00001.dat\"\n",
      "    ],\n",
      "    \"fmt\": [\n",
      "        \"16\",\n",
      "        \"16\",\n",
      "        \"16\",\n",
      "        \"16\",\n",
      "        \"16\",\n",
      "        \"16\",\n",
      "        \"16\",\n",
      "        \"16\",\n",
      "        \"16\",\n",
      "        \"16\",\n",
      "        \"16\",\n",
      "        \"16\"\n",
      "    ],\n",
      "    \"samps_per_frame\": [\n",
      "        1,\n",
      "        1,\n",
      "        1,\n",
      "        1,\n",
      "        1,\n",
      "        1,\n",
      "        1,\n",
      "        1,\n",
      "        1,\n",
      "        1,\n",
      "        1,\n",
      "        1\n",
      "    ],\n",
      "    \"skew\": [\n",
      "        null,\n",
      "        null,\n",
      "        null,\n",
      "        null,\n",
      "        null,\n",
      "        null,\n",
      "        null,\n",
      "        null,\n",
      "        null,\n",
      "        null,\n",
      "        null,\n",
      "        null\n",
      "    ],\n",
      "    \"byte_offset\": [\n",
      "        null,\n",
      "        null,\n",
      "        null,\n",
      "        null,\n",
      "        null,\n",
      "        null,\n",
      "        null,\n",
      "        null,\n",
      "        null,\n",
      "        null,\n",
      "        null,\n",
      "        null\n",
      "    ],\n",
      "    \"adc_gain\": [\n",
      "        72969.43464208406,\n",
      "        80714.4606183703,\n",
      "        73151.38433024159,\n",
      "        83631.4704440722,\n",
      "        96481.02521873197,\n",
      "        90608.32142225865,\n",
      "        28059.595032423233,\n",
      "        27682.11652101858,\n",
      "        31214.162316976403,\n",
      "        34945.18495248643,\n",
      "        35047.057143013306,\n",
      "        15007.167926518257\n",
      "    ],\n",
      "    \"baseline\": [\n",
      "        2811,\n",
      "        -8680,\n",
      "        -10364,\n",
      "        3946,\n",
      "        8424,\n",
      "        -11096,\n",
      "        -9560,\n",
      "        -13576,\n",
      "        -7546,\n",
      "        -2348,\n",
      "        -2374,\n",
      "        -8301\n",
      "    ],\n",
      "    \"units\": [\n",
      "        \"mV\",\n",
      "        \"mV\",\n",
      "        \"mV\",\n",
      "        \"mV\",\n",
      "        \"mV\",\n",
      "        \"mV\",\n",
      "        \"mV\",\n",
      "        \"mV\",\n",
      "        \"mV\",\n",
      "        \"mV\",\n",
      "        \"mV\",\n",
      "        \"mV\"\n",
      "    ],\n",
      "    \"adc_res\": [\n",
      "        16,\n",
      "        16,\n",
      "        16,\n",
      "        16,\n",
      "        16,\n",
      "        16,\n",
      "        16,\n",
      "        16,\n",
      "        16,\n",
      "        16,\n",
      "        16,\n",
      "        16\n",
      "    ],\n",
      "    \"adc_zero\": [\n",
      "        0,\n",
      "        0,\n",
      "        0,\n",
      "        0,\n",
      "        0,\n",
      "        0,\n",
      "        0,\n",
      "        0,\n",
      "        0,\n",
      "        0,\n",
      "        0,\n",
      "        0\n",
      "    ],\n",
      "    \"init_value\": [\n",
      "        -8398,\n",
      "        2183,\n",
      "        10677,\n",
      "        4773,\n",
      "        -12926,\n",
      "        7913,\n",
      "        -11217,\n",
      "        -12393,\n",
      "        -7958,\n",
      "        11851,\n",
      "        12045,\n",
      "        -3091\n",
      "    ],\n",
      "    \"checksum\": [\n",
      "        50298,\n",
      "        26616,\n",
      "        943,\n",
      "        56961,\n",
      "        62407,\n",
      "        7403,\n",
      "        14087,\n",
      "        24271,\n",
      "        14177,\n",
      "        52649,\n",
      "        17844,\n",
      "        54038\n",
      "    ],\n",
      "    \"block_size\": [\n",
      "        0,\n",
      "        0,\n",
      "        0,\n",
      "        0,\n",
      "        0,\n",
      "        0,\n",
      "        0,\n",
      "        0,\n",
      "        0,\n",
      "        0,\n",
      "        0,\n",
      "        0\n",
      "    ]\n",
      "}\n"
     ]
    }
   ],
   "source": [
    "patient_file = 'challenge-2021/chapman_shaoxing_g1_JS00001'\n",
    "record = wfdb.rdrecord(patient_file)\n",
    "header_info = record.__dict__\n",
    "signal_data = header_info.pop('p_signal')\n",
    "\n",
    "pretty_json = json.dumps(header_info, indent=4)\n",
    "print(pretty_json)"
   ]
  },
  {
   "cell_type": "code",
   "execution_count": 44,
   "id": "f278efab-f934-4516-9a44-ff1451f43879",
   "metadata": {},
   "outputs": [
    {
     "data": {
      "text/plain": [
       "array([[-0.15361226,  0.13458555,  0.28763639, ...,  0.40632207,\n",
       "         0.41141828,  0.34716744],\n",
       "       [-0.29090262,  0.27193392,  0.56277814, ...,  0.82077116,\n",
       "         0.81770061,  0.56019897],\n",
       "       [-0.29121782,  0.06234323,  0.35388257, ...,  0.26987981,\n",
       "         0.2738889 ,  0.16185599],\n",
       "       ...,\n",
       "       [ 0.00417983, -0.04024062, -0.04436006, ..., -0.16216826,\n",
       "        -0.15978517,  0.07163244],\n",
       "       [ 0.03467205,  0.00730972, -0.0273679 , ..., -0.10702476,\n",
       "        -0.10314703,  0.13433581],\n",
       "       [ 0.00798965, -0.07061932, -0.07853577, ..., -0.2615811 ,\n",
       "        -0.26472979,  0.09182279]])"
      ]
     },
     "execution_count": 44,
     "metadata": {},
     "output_type": "execute_result"
    }
   ],
   "source": [
    "signal_data"
   ]
  }
 ],
 "metadata": {
  "kernelspec": {
   "display_name": "Python 3 (ipykernel)",
   "language": "python",
   "name": "python3"
  },
  "language_info": {
   "codemirror_mode": {
    "name": "ipython",
    "version": 3
   },
   "file_extension": ".py",
   "mimetype": "text/x-python",
   "name": "python",
   "nbconvert_exporter": "python",
   "pygments_lexer": "ipython3",
   "version": "3.10.12"
  }
 },
 "nbformat": 4,
 "nbformat_minor": 5
}
