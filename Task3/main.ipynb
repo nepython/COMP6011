{
 "cells": [
  {
   "cell_type": "markdown",
   "id": "49578faa-cb26-4b5d-a3d3-a941ab45b658",
   "metadata": {
    "jp-MarkdownHeadingCollapsed": true
   },
   "source": [
    "## 1. Setup models"
   ]
  },
  {
   "cell_type": "code",
   "execution_count": null,
   "id": "ec074e3e-5c98-4041-a56e-025f055e23ca",
   "metadata": {},
   "outputs": [
    {
     "name": "stdout",
     "output_type": "stream",
     "text": [
      "Cloning into 'DL_ECG_Classification'...\n",
      "remote: Enumerating objects: 811, done.\u001b[K\n",
      "remote: Counting objects: 100% (259/259), done.\u001b[K\n",
      "remote: Compressing objects: 100% (127/127), done.\u001b[K\n",
      "remote: Total 811 (delta 162), reused 204 (delta 127), pack-reused 552 (from 1)\u001b[K\n",
      "Receiving objects: 100% (811/811), 14.00 MiB | 16.55 MiB/s, done.\n",
      "Resolving deltas: 100% (501/501), done.\n"
     ]
    }
   ],
   "source": [
    "# !git clone https://github.com/HemaxiN/DL_ECG_Classification.git"
   ]
  },
  {
   "cell_type": "code",
   "execution_count": 2,
   "id": "3885f8f0-5897-4360-b974-72645d1b2b8e",
   "metadata": {
    "scrolled": true
   },
   "outputs": [
    {
     "name": "stdout",
     "output_type": "stream",
     "text": [
      "Defaulting to user installation because normal site-packages is not writeable\n",
      "Collecting argon2-cffi==21.3.0 (from -r DL_ECG_Classification/requirements.txt (line 1))\n",
      "  Using cached argon2_cffi-21.3.0-py3-none-any.whl.metadata (5.4 kB)\n",
      "Collecting argon2-cffi-bindings==21.2.0 (from -r DL_ECG_Classification/requirements.txt (line 2))\n",
      "  Using cached argon2_cffi_bindings-21.2.0-cp36-abi3-manylinux_2_17_x86_64.manylinux2014_x86_64.whl.metadata (6.7 kB)\n",
      "Collecting asttokens==2.0.5 (from -r DL_ECG_Classification/requirements.txt (line 3))\n",
      "  Using cached asttokens-2.0.5-py2.py3-none-any.whl.metadata (4.6 kB)\n",
      "Collecting attrs==21.4.0 (from -r DL_ECG_Classification/requirements.txt (line 4))\n",
      "  Using cached attrs-21.4.0-py2.py3-none-any.whl.metadata (9.8 kB)\n",
      "Requirement already satisfied: backcall==0.2.0 in /usr/lib/python3/dist-packages (from -r DL_ECG_Classification/requirements.txt (line 5)) (0.2.0)\n",
      "Requirement already satisfied: beautifulsoup4==4.10.0 in /usr/lib/python3/dist-packages (from -r DL_ECG_Classification/requirements.txt (line 6)) (4.10.0)\n",
      "Requirement already satisfied: bleach==4.1.0 in /usr/lib/python3/dist-packages (from -r DL_ECG_Classification/requirements.txt (line 7)) (4.1.0)\n",
      "Collecting certifi==2021.10.8 (from -r DL_ECG_Classification/requirements.txt (line 8))\n",
      "  Using cached certifi-2021.10.8-py2.py3-none-any.whl.metadata (3.0 kB)\n",
      "Requirement already satisfied: cffi==1.15.0 in /usr/lib/python3/dist-packages (from -r DL_ECG_Classification/requirements.txt (line 9)) (1.15.0)\n",
      "Collecting charset-normalizer==2.0.12 (from -r DL_ECG_Classification/requirements.txt (line 10))\n",
      "  Using cached charset_normalizer-2.0.12-py3-none-any.whl.metadata (11 kB)\n",
      "Requirement already satisfied: colorama==0.4.4 in /usr/lib/python3/dist-packages (from -r DL_ECG_Classification/requirements.txt (line 11)) (0.4.4)\n",
      "Requirement already satisfied: cycler==0.11.0 in /usr/lib/python3/dist-packages (from -r DL_ECG_Classification/requirements.txt (line 12)) (0.11.0)\n",
      "Collecting debugpy==1.6.0 (from -r DL_ECG_Classification/requirements.txt (line 13))\n",
      "  Using cached debugpy-1.6.0-cp310-cp310-manylinux_2_5_x86_64.manylinux1_x86_64.manylinux_2_12_x86_64.manylinux2010_x86_64.whl.metadata (1.1 kB)\n",
      "Collecting decorator==5.1.1 (from -r DL_ECG_Classification/requirements.txt (line 14))\n",
      "  Using cached decorator-5.1.1-py3-none-any.whl.metadata (4.0 kB)\n",
      "Requirement already satisfied: defusedxml==0.7.1 in /usr/lib/python3/dist-packages (from -r DL_ECG_Classification/requirements.txt (line 15)) (0.7.1)\n",
      "Requirement already satisfied: entrypoints==0.4 in /usr/lib/python3/dist-packages (from -r DL_ECG_Classification/requirements.txt (line 16)) (0.4)\n",
      "Collecting executing==0.8.3 (from -r DL_ECG_Classification/requirements.txt (line 17))\n",
      "  Using cached executing-0.8.3-py2.py3-none-any.whl.metadata (8.6 kB)\n",
      "Collecting fonttools==4.31.2 (from -r DL_ECG_Classification/requirements.txt (line 18))\n",
      "  Using cached fonttools-4.31.2-py3-none-any.whl.metadata (121 kB)\n",
      "Requirement already satisfied: idna==3.3 in /usr/lib/python3/dist-packages (from -r DL_ECG_Classification/requirements.txt (line 19)) (3.3)\n",
      "Collecting importlib-resources==5.6.0 (from -r DL_ECG_Classification/requirements.txt (line 20))\n",
      "  Using cached importlib_resources-5.6.0-py3-none-any.whl.metadata (3.1 kB)\n",
      "Collecting ipykernel==6.10.0 (from -r DL_ECG_Classification/requirements.txt (line 21))\n",
      "  Using cached ipykernel-6.10.0-py3-none-any.whl.metadata (2.0 kB)\n",
      "Collecting ipython==8.2.0 (from -r DL_ECG_Classification/requirements.txt (line 22))\n",
      "  Using cached ipython-8.2.0-py3-none-any.whl.metadata (4.9 kB)\n",
      "Requirement already satisfied: ipython-genutils==0.2.0 in /usr/lib/python3/dist-packages (from -r DL_ECG_Classification/requirements.txt (line 23)) (0.2.0)\n",
      "Collecting ipywidgets==7.7.0 (from -r DL_ECG_Classification/requirements.txt (line 24))\n",
      "  Using cached ipywidgets-7.7.0-py2.py3-none-any.whl.metadata (1.9 kB)\n",
      "Collecting jedi==0.18.1 (from -r DL_ECG_Classification/requirements.txt (line 25))\n",
      "  Using cached jedi-0.18.1-py2.py3-none-any.whl.metadata (20 kB)\n",
      "Collecting Jinja2==3.1.1 (from -r DL_ECG_Classification/requirements.txt (line 26))\n",
      "  Using cached Jinja2-3.1.1-py3-none-any.whl.metadata (3.5 kB)\n",
      "Collecting joblib==1.1.0 (from -r DL_ECG_Classification/requirements.txt (line 27))\n",
      "  Using cached joblib-1.1.0-py2.py3-none-any.whl.metadata (5.2 kB)\n",
      "Collecting jsonschema==4.4.0 (from -r DL_ECG_Classification/requirements.txt (line 28))\n",
      "  Using cached jsonschema-4.4.0-py3-none-any.whl.metadata (7.5 kB)\n",
      "Collecting jupyter==1.0.0 (from -r DL_ECG_Classification/requirements.txt (line 29))\n",
      "  Using cached jupyter-1.0.0-py2.py3-none-any.whl.metadata (995 bytes)\n",
      "Collecting jupyter-client==7.1.2 (from -r DL_ECG_Classification/requirements.txt (line 30))\n",
      "  Using cached jupyter_client-7.1.2-py3-none-any.whl.metadata (5.4 kB)\n",
      "Collecting jupyter-console==6.4.3 (from -r DL_ECG_Classification/requirements.txt (line 31))\n",
      "  Using cached jupyter_console-6.4.3-py3-none-any.whl.metadata (1.2 kB)\n",
      "Collecting jupyter-core==4.9.2 (from -r DL_ECG_Classification/requirements.txt (line 32))\n",
      "  Using cached jupyter_core-4.9.2-py3-none-any.whl.metadata (870 bytes)\n",
      "Requirement already satisfied: jupyterlab-pygments==0.1.2 in /usr/lib/python3/dist-packages (from -r DL_ECG_Classification/requirements.txt (line 33)) (0.1.2)\n",
      "Collecting jupyterlab-widgets==1.1.0 (from -r DL_ECG_Classification/requirements.txt (line 34))\n",
      "  Using cached jupyterlab_widgets-1.1.0-py3-none-any.whl.metadata (3.7 kB)\n",
      "Collecting kiwisolver==1.4.2 (from -r DL_ECG_Classification/requirements.txt (line 35))\n",
      "  Using cached kiwisolver-1.4.2-cp310-cp310-manylinux_2_12_x86_64.manylinux2010_x86_64.whl.metadata (6.4 kB)\n",
      "Collecting llvmlite==0.38.1 (from -r DL_ECG_Classification/requirements.txt (line 36))\n",
      "  Using cached llvmlite-0.38.1-cp310-cp310-manylinux_2_17_x86_64.manylinux2014_x86_64.whl.metadata (4.7 kB)\n",
      "Collecting MarkupSafe==2.1.1 (from -r DL_ECG_Classification/requirements.txt (line 37))\n",
      "  Using cached MarkupSafe-2.1.1-cp310-cp310-manylinux_2_17_x86_64.manylinux2014_x86_64.whl.metadata (3.2 kB)\n",
      "Collecting matplotlib==3.5.1 (from -r DL_ECG_Classification/requirements.txt (line 38))\n",
      "  Using cached matplotlib-3.5.1-cp310-cp310-manylinux_2_17_x86_64.manylinux2014_x86_64.whl.metadata (6.7 kB)\n",
      "Requirement already satisfied: matplotlib-inline==0.1.3 in /usr/lib/python3/dist-packages (from -r DL_ECG_Classification/requirements.txt (line 39)) (0.1.3)\n",
      "Collecting mistune==0.8.4 (from -r DL_ECG_Classification/requirements.txt (line 40))\n",
      "  Using cached mistune-0.8.4-py2.py3-none-any.whl.metadata (8.5 kB)\n",
      "Collecting nbclient==0.5.13 (from -r DL_ECG_Classification/requirements.txt (line 41))\n",
      "  Using cached nbclient-0.5.13-py3-none-any.whl.metadata (5.0 kB)\n",
      "Collecting nbconvert==6.4.5 (from -r DL_ECG_Classification/requirements.txt (line 42))\n",
      "  Using cached nbconvert-6.4.5-py3-none-any.whl.metadata (5.9 kB)\n",
      "Collecting nbformat==5.2.0 (from -r DL_ECG_Classification/requirements.txt (line 43))\n",
      "  Using cached nbformat-5.2.0-py3-none-any.whl.metadata (1.4 kB)\n",
      "Requirement already satisfied: nest-asyncio==1.5.4 in /usr/lib/python3/dist-packages (from -r DL_ECG_Classification/requirements.txt (line 44)) (1.5.4)\n",
      "Collecting notebook==6.4.10 (from -r DL_ECG_Classification/requirements.txt (line 45))\n",
      "  Using cached notebook-6.4.10-py3-none-any.whl.metadata (2.4 kB)\n",
      "Collecting numba==0.55.2 (from -r DL_ECG_Classification/requirements.txt (line 46))\n",
      "  Using cached numba-0.55.2-cp310-cp310-manylinux2014_x86_64.manylinux_2_17_x86_64.whl.metadata (3.3 kB)\n",
      "Collecting numpy==1.22.3 (from -r DL_ECG_Classification/requirements.txt (line 47))\n",
      "  Using cached numpy-1.22.3-cp310-cp310-manylinux_2_17_x86_64.manylinux2014_x86_64.whl.metadata (2.0 kB)\n",
      "Collecting opencv-python==4.5.5.64 (from -r DL_ECG_Classification/requirements.txt (line 48))\n",
      "  Using cached opencv_python-4.5.5.64-cp36-abi3-manylinux_2_17_x86_64.manylinux2014_x86_64.whl.metadata (18 kB)\n",
      "Collecting packaging==21.3 (from -r DL_ECG_Classification/requirements.txt (line 49))\n",
      "  Using cached packaging-21.3-py3-none-any.whl.metadata (15 kB)\n",
      "Collecting pandas==1.5.2 (from -r DL_ECG_Classification/requirements.txt (line 50))\n",
      "  Using cached pandas-1.5.2-cp310-cp310-manylinux_2_17_x86_64.manylinux2014_x86_64.whl.metadata (11 kB)\n",
      "Requirement already satisfied: pandocfilters==1.5.0 in /usr/lib/python3/dist-packages (from -r DL_ECG_Classification/requirements.txt (line 51)) (1.5.0)\n",
      "Collecting parso==0.8.3 (from -r DL_ECG_Classification/requirements.txt (line 52))\n",
      "  Using cached parso-0.8.3-py2.py3-none-any.whl.metadata (7.5 kB)\n",
      "Requirement already satisfied: pickleshare==0.7.5 in /usr/lib/python3/dist-packages (from -r DL_ECG_Classification/requirements.txt (line 53)) (0.7.5)\n",
      "Requirement already satisfied: Pillow==9.0.1 in /usr/lib/python3/dist-packages (from -r DL_ECG_Classification/requirements.txt (line 54)) (9.0.1)\n",
      "Collecting prettytable==3.3.0 (from -r DL_ECG_Classification/requirements.txt (line 55))\n",
      "  Using cached prettytable-3.3.0-py3-none-any.whl.metadata (24 kB)\n",
      "Collecting prometheus-client==0.13.1 (from -r DL_ECG_Classification/requirements.txt (line 56))\n",
      "  Using cached prometheus_client-0.13.1-py3-none-any.whl.metadata (20 kB)\n",
      "Requirement already satisfied: prompt-toolkit==3.0.28 in /usr/lib/python3/dist-packages (from -r DL_ECG_Classification/requirements.txt (line 57)) (3.0.28)\n",
      "Requirement already satisfied: psutil==5.9.0 in /usr/lib/python3/dist-packages (from -r DL_ECG_Classification/requirements.txt (line 58)) (5.9.0)\n",
      "Collecting pure-eval==0.2.2 (from -r DL_ECG_Classification/requirements.txt (line 59))\n",
      "  Using cached pure_eval-0.2.2-py3-none-any.whl.metadata (6.2 kB)\n",
      "Requirement already satisfied: pycparser==2.21 in /usr/lib/python3/dist-packages (from -r DL_ECG_Classification/requirements.txt (line 60)) (2.21)\n",
      "Collecting Pygments==2.11.2 (from -r DL_ECG_Classification/requirements.txt (line 61))\n",
      "  Using cached Pygments-2.11.2-py3-none-any.whl.metadata (1.5 kB)\n",
      "Collecting pyparsing==3.0.7 (from -r DL_ECG_Classification/requirements.txt (line 62))\n",
      "  Using cached pyparsing-3.0.7-py3-none-any.whl.metadata (4.2 kB)\n",
      "Requirement already satisfied: pyrsistent==0.18.1 in /usr/lib/python3/dist-packages (from -r DL_ECG_Classification/requirements.txt (line 63)) (0.18.1)\n",
      "Collecting python-dateutil==2.8.2 (from -r DL_ECG_Classification/requirements.txt (line 64))\n",
      "  Using cached python_dateutil-2.8.2-py2.py3-none-any.whl.metadata (8.2 kB)\n",
      "Collecting pyts==0.12.0 (from -r DL_ECG_Classification/requirements.txt (line 65))\n",
      "  Using cached pyts-0.12.0-py3-none-any.whl.metadata (10 kB)\n",
      "Collecting pytz==2022.7.1 (from -r DL_ECG_Classification/requirements.txt (line 66))\n",
      "  Using cached pytz-2022.7.1-py2.py3-none-any.whl.metadata (21 kB)\n",
      "\u001b[31mERROR: Could not find a version that satisfies the requirement pywin32==303 (from versions: none)\u001b[0m\u001b[31m\n",
      "\u001b[0m\n",
      "\u001b[1m[\u001b[0m\u001b[34;49mnotice\u001b[0m\u001b[1;39;49m]\u001b[0m\u001b[39;49m A new release of pip is available: \u001b[0m\u001b[31;49m25.0.1\u001b[0m\u001b[39;49m -> \u001b[0m\u001b[32;49m25.1.1\u001b[0m\n",
      "\u001b[1m[\u001b[0m\u001b[34;49mnotice\u001b[0m\u001b[1;39;49m]\u001b[0m\u001b[39;49m To update, run: \u001b[0m\u001b[32;49mpython -m pip install --upgrade pip\u001b[0m\n",
      "\u001b[31mERROR: No matching distribution found for pywin32==303\u001b[0m\u001b[31m\n",
      "\u001b[0m"
     ]
    }
   ],
   "source": [
    "!pip install -U -r DL_ECG_Classification/requirements.txt"
   ]
  },
  {
   "cell_type": "code",
   "execution_count": null,
   "id": "2c49151a-b881-4308-9a63-1dc5bcfd67c0",
   "metadata": {},
   "outputs": [
    {
     "name": "stdout",
     "output_type": "stream",
     "text": [
      "\n",
      "\u001b[1m[\u001b[0m\u001b[34;49mnotice\u001b[0m\u001b[1;39;49m]\u001b[0m\u001b[39;49m A new release of pip is available: \u001b[0m\u001b[31;49m25.0.1\u001b[0m\u001b[39;49m -> \u001b[0m\u001b[32;49m25.1.1\u001b[0m\n",
      "\u001b[1m[\u001b[0m\u001b[34;49mnotice\u001b[0m\u001b[1;39;49m]\u001b[0m\u001b[39;49m To update, run: \u001b[0m\u001b[32;49mpython -m pip install --upgrade pip\u001b[0m\n"
     ]
    }
   ],
   "source": [
    "!pip install -q tifffile pyts wfdb torchmetrics torchsummary"
   ]
  },
  {
   "cell_type": "markdown",
   "id": "73053b3d-2d44-4730-9f8f-7118a106b91e",
   "metadata": {},
   "source": [
    "## 2. Setup PTB-XL dataset (v1.0.3)"
   ]
  },
  {
   "cell_type": "code",
   "execution_count": 1,
   "id": "ac130a13-a9ab-47fc-ba46-d80acaef607c",
   "metadata": {},
   "outputs": [
    {
     "name": "stdout",
     "output_type": "stream",
     "text": [
      "--2025-05-13 11:52:08--  https://physionet.org/static/published-projects/ptb-xl/ptb-xl-a-large-publicly-available-electrocardiography-dataset-1.0.3.zip\n",
      "Resolving physionet.org (physionet.org)... 18.18.42.54\n",
      "Connecting to physionet.org (physionet.org)|18.18.42.54|:443... connected.\n",
      "HTTP request sent, awaiting response... 200 OK\n",
      "Length: 1839504686 (1.7G) [application/zip]\n",
      "Saving to: ‘ptb-xl-a-large-publicly-available-electrocardiography-dataset-1.0.3.zip’\n",
      "\n",
      " ptb-xl-a-large-pub  92%[=================>  ]   1.59G   334KB/s    eta 6m 35s "
     ]
    },
    {
     "name": "stderr",
     "output_type": "stream",
     "text": [
      "IOPub message rate exceeded.\n",
      "The Jupyter server will temporarily stop sending output\n",
      "to the client in order to avoid crashing it.\n",
      "To change this limit, set the config variable\n",
      "`--ServerApp.iopub_msg_rate_limit`.\n",
      "\n",
      "Current values:\n",
      "ServerApp.iopub_msg_rate_limit=1000.0 (msgs/sec)\n",
      "ServerApp.rate_limit_window=3.0 (secs)\n",
      "\n"
     ]
    }
   ],
   "source": [
    "!wget https://physionet.org/static/published-projects/ptb-xl/ptb-xl-a-large-publicly-available-electrocardiography-dataset-1.0.3.zip"
   ]
  },
  {
   "cell_type": "code",
   "execution_count": null,
   "id": "b39d7823-69bb-4b31-ae6b-97586e587c2c",
   "metadata": {},
   "outputs": [],
   "source": [
    "!unzip ptb-xl-a-large-publicly-available-electrocardiography-dataset-1.0.3.zip -d p"
   ]
  },
  {
   "cell_type": "code",
   "execution_count": 33,
   "id": "de65b50c-e8e7-47ae-ac2a-3b87e6b0b53c",
   "metadata": {},
   "outputs": [
    {
     "name": "stdout",
     "output_type": "stream",
     "text": [
      "Train records: 9672\n",
      "Val records: 1210\n",
      "Test records: 1226\n"
     ]
    }
   ],
   "source": [
    "import matplotlib.pyplot as plt\n",
    "import numpy as np\n",
    "import pandas as pd\n",
    "import wfdb\n",
    "import ast\n",
    "import pickle\n",
    "import os\n",
    "\n",
    "\n",
    "def load_raw_data(df, sampling_rate, path):\n",
    "    if sampling_rate == 100:\n",
    "        data = [wfdb.rdsamp(path+f) for f in df.filename_lr]\n",
    "    else:\n",
    "        data = [wfdb.rdsamp(path+f) for f in df.filename_hr]\n",
    "    data = np.array([signal for signal, meta in data])\n",
    "    return data\n",
    "\n",
    "path = 'ptb-xl-1.0.3/ptb-xl-a-large-publicly-available-electrocardiography-dataset-1.0.3/'\n",
    "sampling_rate=100\n",
    "\n",
    "# load and convert annotation data\n",
    "Y = pd.read_csv(path+'ptbxl_database.csv', index_col='ecg_id')\n",
    "Y.scp_codes = Y.scp_codes.apply(lambda x: ast.literal_eval(x))\n",
    "\n",
    "# Load raw signal data\n",
    "X = load_raw_data(Y, sampling_rate, path)\n",
    "\n",
    "# Load scp_statements.csv for diagnostic aggregation\n",
    "agg_df = pd.read_csv(path+'scp_statements.csv', index_col=0)\n",
    "\n",
    "def aggregate_diagnostic(y_dic, threshold=50):\n",
    "    tmp = []\n",
    "    for key, val in y_dic.items():\n",
    "        if key in agg_df.index and val>=threshold:\n",
    "            if key in ['CLBBB', 'ILBBB']:\n",
    "                label = 'LBBB'\n",
    "            elif key in ['CRBBB', 'IRBBB']:\n",
    "                label = 'RBBB'\n",
    "            elif key == '1AVB':\n",
    "                label = '1dAVB'\n",
    "            else:\n",
    "                label = key\n",
    "            if label in ['AFIB', 'AFLT', '1dAVB', 'RBBB', 'LBBB', 'NORM']:\n",
    "                tmp.append(label)\n",
    "    return list(set(tmp))\n",
    "\n",
    "# Apply diagnostic superclass\n",
    "Y['subclass'] = Y.scp_codes.apply(aggregate_diagnostic)\n",
    "Y = Y[Y.subclass.apply(lambda x: len(x) > 0)]\n",
    "\n",
    "# Split data into train and test (https://physionet.org/content/ptb-xl/1.0.1/)\n",
    "test_fold = 10\n",
    "dev_fold = 9\n",
    "\n",
    "X_train = X[np.where((Y.strat_fold != test_fold) & (Y.strat_fold != dev_fold))]\n",
    "y_train = Y[(Y.strat_fold != test_fold) & (Y.strat_fold != dev_fold)].subclass\n",
    "print(f'Train records: {len(y_train)}')\n",
    "\n",
    "X_dev = X[np.where(Y.strat_fold == dev_fold)]\n",
    "y_dev = Y[(Y.strat_fold == dev_fold)].subclass\n",
    "print(f'Val records: {len(y_dev)}')\n",
    "\n",
    "X_test = X[np.where(Y.strat_fold == test_fold)]\n",
    "y_test = Y[Y.strat_fold == test_fold].subclass\n",
    "print(f'Test records: {len(y_test)}')"
   ]
  },
  {
   "cell_type": "code",
   "execution_count": 40,
   "id": "819cbe30-6b9b-420b-b544-b4dae03cb301",
   "metadata": {
    "scrolled": true
   },
   "outputs": [
    {
     "data": {
      "text/html": [
       "<div>\n",
       "<style scoped>\n",
       "    .dataframe tbody tr th:only-of-type {\n",
       "        vertical-align: middle;\n",
       "    }\n",
       "\n",
       "    .dataframe tbody tr th {\n",
       "        vertical-align: top;\n",
       "    }\n",
       "\n",
       "    .dataframe thead th {\n",
       "        text-align: right;\n",
       "    }\n",
       "</style>\n",
       "<table border=\"1\" class=\"dataframe\">\n",
       "  <thead>\n",
       "    <tr style=\"text-align: right;\">\n",
       "      <th></th>\n",
       "      <th>y_train</th>\n",
       "      <th>y_dev</th>\n",
       "      <th>y_test</th>\n",
       "    </tr>\n",
       "  </thead>\n",
       "  <tbody>\n",
       "    <tr>\n",
       "      <th>1dAVB</th>\n",
       "      <td>428</td>\n",
       "      <td>57.0</td>\n",
       "      <td>55.0</td>\n",
       "    </tr>\n",
       "    <tr>\n",
       "      <th>AFIB</th>\n",
       "      <td>37</td>\n",
       "      <td>3.0</td>\n",
       "      <td>8.0</td>\n",
       "    </tr>\n",
       "    <tr>\n",
       "      <th>AFLT</th>\n",
       "      <td>47</td>\n",
       "      <td>5.0</td>\n",
       "      <td>4.0</td>\n",
       "    </tr>\n",
       "    <tr>\n",
       "      <th>LBBB</th>\n",
       "      <td>405</td>\n",
       "      <td>50.0</td>\n",
       "      <td>54.0</td>\n",
       "    </tr>\n",
       "    <tr>\n",
       "      <th>LBBB, 1dAVB</th>\n",
       "      <td>83</td>\n",
       "      <td>11.0</td>\n",
       "      <td>8.0</td>\n",
       "    </tr>\n",
       "    <tr>\n",
       "      <th>NORM</th>\n",
       "      <td>7320</td>\n",
       "      <td>914.0</td>\n",
       "      <td>929.0</td>\n",
       "    </tr>\n",
       "    <tr>\n",
       "      <th>NORM, 1dAVB</th>\n",
       "      <td>30</td>\n",
       "      <td>4.0</td>\n",
       "      <td>2.0</td>\n",
       "    </tr>\n",
       "    <tr>\n",
       "      <th>RBBB</th>\n",
       "      <td>1039</td>\n",
       "      <td>134.0</td>\n",
       "      <td>129.0</td>\n",
       "    </tr>\n",
       "    <tr>\n",
       "      <th>RBBB, 1dAVB</th>\n",
       "      <td>90</td>\n",
       "      <td>8.0</td>\n",
       "      <td>14.0</td>\n",
       "    </tr>\n",
       "    <tr>\n",
       "      <th>RBBB, LBBB</th>\n",
       "      <td>1</td>\n",
       "      <td>0.0</td>\n",
       "      <td>0.0</td>\n",
       "    </tr>\n",
       "    <tr>\n",
       "      <th>RBBB, NORM</th>\n",
       "      <td>192</td>\n",
       "      <td>24.0</td>\n",
       "      <td>23.0</td>\n",
       "    </tr>\n",
       "  </tbody>\n",
       "</table>\n",
       "</div>"
      ],
      "text/plain": [
       "             y_train  y_dev  y_test\n",
       "1dAVB            428   57.0    55.0\n",
       "AFIB              37    3.0     8.0\n",
       "AFLT              47    5.0     4.0\n",
       "LBBB             405   50.0    54.0\n",
       "LBBB, 1dAVB       83   11.0     8.0\n",
       "NORM            7320  914.0   929.0\n",
       "NORM, 1dAVB       30    4.0     2.0\n",
       "RBBB            1039  134.0   129.0\n",
       "RBBB, 1dAVB       90    8.0    14.0\n",
       "RBBB, LBBB         1    0.0     0.0\n",
       "RBBB, NORM       192   24.0    23.0"
      ]
     },
     "execution_count": 40,
     "metadata": {},
     "output_type": "execute_result"
    }
   ],
   "source": [
    "# Flatten lists\n",
    "y_train_flat = pd.Series([', '.join(sublist) for sublist in y_train])\n",
    "y_dev_flat = pd.Series([', '.join(sublist) for sublist in y_dev])\n",
    "y_test_flat = pd.Series([', '.join(sublist) for sublist in y_test])\n",
    "\n",
    "# Get value counts\n",
    "train_counts = y_train_flat.value_counts()\n",
    "dev_counts = y_dev_flat.value_counts()\n",
    "test_counts = y_test_flat.value_counts()\n",
    "\n",
    "# Create a summary DataFrame\n",
    "summary_df = pd.DataFrame({\n",
    "    'y_train': train_counts,\n",
    "    'y_dev': dev_counts,\n",
    "    'y_test': test_counts\n",
    "})\n",
    "\n",
    "summary_df = summary_df.fillna(0)\n",
    "summary_df"
   ]
  },
  {
   "cell_type": "code",
   "execution_count": 41,
   "id": "e9eea17f-1e67-4773-b6c0-9b455be6722e",
   "metadata": {},
   "outputs": [],
   "source": [
    "preprocessed_dir = 'Processed'\n",
    "os.makedirs(preprocessed_dir, exist_ok=True)\n",
    "\n",
    "pickle_out = open(os.path.join(preprocessed_dir, \"X.pickle\"),\"wb\")\n",
    "pickle.dump(X, pickle_out)\n",
    "pickle_out.close()\n",
    "\n",
    "pickle_out = open(os.path.join(preprocessed_dir, \"y.pickle\"),\"wb\")\n",
    "pickle.dump(Y, pickle_out)\n",
    "pickle_out.close()\n",
    "\n",
    "pickle_out = open(os.path.join(preprocessed_dir, \"X_train.pickle\"),\"wb\")\n",
    "pickle.dump(X_train, pickle_out)\n",
    "pickle_out.close()\n",
    "\n",
    "pickle_out = open(os.path.join(preprocessed_dir, \"y_train.pickle\"),\"wb\")\n",
    "pickle.dump(y_train, pickle_out)\n",
    "pickle_out.close()\n",
    "\n",
    "pickle_out = open(os.path.join(preprocessed_dir, \"X_dev.pickle\"),\"wb\")\n",
    "pickle.dump(X_dev, pickle_out)\n",
    "pickle_out.close()\n",
    "\n",
    "pickle_out = open(os.path.join(preprocessed_dir, \"y_dev.pickle\"),\"wb\")\n",
    "pickle.dump(y_dev, pickle_out)\n",
    "pickle_out.close()\n",
    "\n",
    "pickle_out = open(os.path.join(preprocessed_dir, \"X_test.pickle\"),\"wb\")\n",
    "pickle.dump(X_test, pickle_out)\n",
    "pickle_out.close()\n",
    "\n",
    "pickle_out = open(os.path.join(preprocessed_dir, \"y_test.pickle\"),\"wb\")\n",
    "pickle.dump(y_test, pickle_out)\n",
    "pickle_out.close()"
   ]
  },
  {
   "cell_type": "code",
   "execution_count": null,
   "id": "a6cc5cd3-40c9-4191-aa69-26c5be8e16cf",
   "metadata": {},
   "outputs": [],
   "source": [
    "def labelstovector(X,y):\n",
    "  '''\n",
    "  Convert the labels in y into vectors:\n",
    "  Multi-label problem:\n",
    "  NORM: [0,0,0,0,0]\n",
    "  AFIB: [1,0,0,0,0]\n",
    "  AFLT: [0,1,0,0,0]\n",
    "  1dAVb: [0,0,1,0,0]\n",
    "  RBBB: [0,0,0,1,0]\n",
    "  LBBB: [0,0,0,0,1]\n",
    "  Combination example:\n",
    "  AFLT and LBBB: [0,1,0,0,1]\n",
    "  LBBB and RBBB and 1dAVB: [0,0,1,1,1]\n",
    "  -----------------------------------------------------------\n",
    "  Args: X (number of examples, signal length, number of leads)\n",
    "        y (number of examples, )\n",
    "  '''\n",
    "  y_list = []\n",
    "  X_list = []\n",
    "  for label, ecg in zip(y,X):\n",
    "    if len(label)!=0: #ignore examples with label = []\n",
    "      aux_vec = np.zeros(4)\n",
    "      if 'AFLT' in label:\n",
    "        aux_vec[0] = 1\n",
    "      if '1dAVB' in label:\n",
    "        aux_vec[1] = 1\n",
    "      if 'RBBB' in label:\n",
    "        aux_vec[2] = 1\n",
    "      if 'LBBB' in label:\n",
    "        aux_vec[3] = 1\n",
    "\n",
    "      y_list.append(aux_vec)\n",
    "      X_list.append(ecg)\t\n",
    "\n",
    "  return X_list, y_list"
   ]
  },
  {
   "cell_type": "code",
   "execution_count": 37,
   "id": "bc6d0d4c-f6f8-4af8-8f9d-e89bb124d410",
   "metadata": {},
   "outputs": [
    {
     "name": "stdout",
     "output_type": "stream",
     "text": [
      "(2844, 1000, 12)\n",
      "(357, 1000, 12)\n",
      "(362, 1000, 12)\n"
     ]
    }
   ],
   "source": [
    "X_train_processed, y_train_processed = labelstovector(X_train, y_train)\n",
    "X_dev_processed, y_dev_processed = labelstovector(X_dev, y_dev)\n",
    "X_test_processed, y_test_processed = labelstovector(X_test, y_test)\n",
    "\n",
    "pickle_out = open(os.path.join(preprocessed_dir, \"X_train_processed.pickle\"),\"wb\")\n",
    "pickle.dump(X_train_processed, pickle_out)\n",
    "pickle_out.close()\n",
    "\n",
    "pickle_out = open(os.path.join(preprocessed_dir, \"y_train_processed.pickle\"),\"wb\")\n",
    "pickle.dump(y_train_processed, pickle_out)\n",
    "pickle_out.close()\n",
    "\n",
    "pickle_out = open(os.path.join(preprocessed_dir, \"X_dev_processed.pickle\"),\"wb\")\n",
    "pickle.dump(X_dev_processed, pickle_out)\n",
    "pickle_out.close()\n",
    "\n",
    "pickle_out = open(os.path.join(preprocessed_dir, \"y_dev_processed.pickle\"),\"wb\")\n",
    "pickle.dump(y_dev_processed, pickle_out)\n",
    "pickle_out.close()\n",
    "\n",
    "pickle_out = open(os.path.join(preprocessed_dir, \"X_test_processed.pickle\"),\"wb\")\n",
    "pickle.dump(X_test_processed, pickle_out)\n",
    "pickle_out.close()\n",
    "\n",
    "pickle_out = open(os.path.join(preprocessed_dir, \"y_test_processed.pickle\"),\"wb\")\n",
    "pickle.dump(y_test_processed, pickle_out)\n",
    "pickle_out.close()\n",
    "\n",
    "print('Train size:', X_train.shape)\n",
    "print('Val size:', X_dev.shape)\n",
    "print('Test size:', X_test.shape)"
   ]
  },
  {
   "cell_type": "code",
   "execution_count": 50,
   "id": "c869a9d6-494a-44ad-a08f-048f85f030d1",
   "metadata": {
    "scrolled": true
   },
   "outputs": [
    {
     "name": "stdout",
     "output_type": "stream",
     "text": [
      "\u001b[0m"
     ]
    }
   ],
   "source": [
    "# Prepare 2D dataset\n",
    "%cd ..\n",
    "\n",
    "!mkdir -p Images/dev/labels\n",
    "!mkdir -p Images/dev/images\n",
    "!mkdir -p Images/train/labels\n",
    "!mkdir -p Images/train/images\n",
    "!mkdir -p Images/test/labels\n",
    "!mkdir -p Images/test/images\n",
    "\n",
    "# Save processed dataset at\n",
    "!mkdir -p Processed/model_specific/X_rnn_train\n",
    "!mkdir -p Processed/model_specific/X_rnn_dev\n",
    "!mkdir -p Processed/model_specific/X_rnn_test\n",
    "!mkdir -p Processed/model_specific/X_cnn_train\n",
    "!mkdir -p Processed/model_specific/X_cnn_dev\n",
    "!mkdir -p Processed/model_specific/X_cnn_test\n",
    "!mkdir -p Processed/model_specific/labels_train\n",
    "!mkdir -p Processed/model_specific/labels_dev\n",
    "!mkdir -p Processed/model_specific/labels_test\n",
    "\n",
    "%cd DL_ECG_Classification\n",
    "\n",
    "# Modify `create_dataset.py` appropriately to\n",
    "# specify dataset path and save directory path\n",
    "!python Dataset/create_dataset.py"
   ]
  },
  {
   "cell_type": "code",
   "execution_count": 101,
   "id": "46923b99-54b6-4260-900a-4e0e24681fa6",
   "metadata": {},
   "outputs": [
    {
     "name": "stdout",
     "output_type": "stream",
     "text": [
      "Model output (4,)\n",
      "[1. 0. 0. 0.]\n",
      "\n",
      "1D input: (1000, 3)\n",
      "[[-0.98395012 -0.564272   -0.11927116]\n",
      " [-1.30440752 -0.71998555 -0.17745295]\n",
      " [-0.88465273 -0.38175823 -0.12528143]\n",
      " ...\n",
      " [-0.70504968 -1.0881102  -0.7411463 ]\n",
      " [-0.51278768 -0.95451795 -0.6470171 ]\n",
      " [-0.922783   -1.23902242 -0.15312292]]\n",
      "\n",
      "2D input: (256, 256)\n"
     ]
    },
    {
     "data": {
      "image/png": "[encoded data removed]",
      "text/plain": [
       "<Figure size 432x288 with 1 Axes>"
      ]
     },
     "metadata": {
      "needs_background": "light"
     },
     "output_type": "display_data"
    }
   ],
   "source": [
    "# View label\n",
    "label = np.load('../Processed/model_specific/labels_dev/0.npy')\n",
    "print('Model output', label.shape)\n",
    "print(label)\n",
    "\n",
    "# View RNN input\n",
    "rnn_input = np.load('../Processed/model_specific/X_rnn_dev/0.npy')\n",
    "print('\\n1D input:', rnn_input.shape)\n",
    "print(rnn_input)\n",
    "\n",
    "# View CNN input\n",
    "img = plt.imread('../Processed/model_specific/X_cnn_dev/0.tif')\n",
    "print('\\n2D input:', img.shape)\n",
    "plt.imshow(img)\n",
    "plt.show()"
   ]
  },
  {
   "cell_type": "markdown",
   "id": "93e09427-a980-4f2a-afb8-4ab96a9d6cda",
   "metadata": {},
   "source": [
    "## 3. Training\n",
    "Update `DL_ECG_Classification/config.py` for specific models to ensure dataset length is correctly specified:\n",
    "```python\n",
    "# train, dev, test split\n",
    "samples = [2844,357,362]\n",
    "```\n",
    "\n",
    "Matrix printed at the end contains the column: TP, FN, FP, TN"
   ]
  },
  {
   "cell_type": "code",
   "execution_count": 80,
   "id": "24ebfd9c-7715-4e51-afdc-989e72777325",
   "metadata": {},
   "outputs": [
    {
     "name": "stdout",
     "output_type": "stream",
     "text": [
      "/home/nepython/projects/COMP6011/Task3/DL_ECG_Classification\n"
     ]
    }
   ],
   "source": [
    "%cd DL_ECG_Classification"
   ]
  },
  {
   "cell_type": "code",
   "execution_count": null,
   "id": "6021fbcf-44f6-4473-ba36-7db54f3f5901",
   "metadata": {
    "scrolled": true
   },
   "outputs": [
    {
     "name": "stdout",
     "output_type": "stream",
     "text": [
      "/home/nepython/.local/lib/python3.10/site-packages/matplotlib/projections/__init__.py:63: UserWarning: Unable to import Axes3D. This may be due to multiple versions of Matplotlib being installed (e.g. as a system package and as a pip package). As a result, the 3D projection is not available.\n",
      "  warnings.warn(\"Unable to import Axes3D. This may be due to multiple versions of \"\n",
      "Loading data...\n",
      "Training epoch 1\n",
      "Training loss: 1.3938\n",
      "Training epoch 2\n",
      "Training loss: 1.2762\n",
      "Training epoch 3\n",
      "Training loss: 1.2358\n",
      "Training epoch 4\n",
      "Training loss: 1.2153\n",
      "Training epoch 5\n",
      "Training loss: 1.2038\n",
      "Training epoch 6\n",
      "Training loss: 1.1983\n",
      "Training epoch 7\n",
      "Training loss: 1.1921\n",
      "Training epoch 8\n",
      "Training loss: 1.1878\n",
      "Training epoch 9\n",
      "Training loss: 1.1833\n",
      "Training epoch 10\n",
      "Training loss: 1.1804\n",
      "Training epoch 11\n",
      "Training loss: 1.1782\n",
      "Training epoch 12\n",
      "Training loss: 1.1767\n",
      "Training epoch 13\n",
      "Training loss: 1.1752\n",
      "Training epoch 14\n",
      "Training loss: 1.1731\n",
      "Training epoch 15\n",
      "Training loss: 1.1715\n",
      "Training epoch 16\n",
      "Training loss: 1.1693\n",
      "Training epoch 17\n",
      "Training loss: 1.1675\n",
      "Training epoch 18\n",
      "Training loss: 1.1660\n",
      "Training epoch 19\n",
      "Training loss: 1.1648\n",
      "Training epoch 20\n",
      "Training loss: 1.1633\n",
      "Training epoch 21\n",
      "Training loss: 1.1618\n",
      "/home/nepython/.local/lib/python3.10/site-packages/sklearn/metrics/_ranking.py:1188: UndefinedMetricWarning: No positive samples in y_true, true positive value should be meaningless\n",
      "  warnings.warn(\n",
      "/home/nepython/projects/COMP6011/Task3/DL_ECG_Classification/gru.py:372: RuntimeWarning: invalid value encountered in scalar divide\n",
      "  STTC_sensi = matrix[1, 0] / (matrix[1, 0] + matrix[1, 1])\n",
      "Final Test Results: \n",
      " [[  4.   3. 218. 137.]\n",
      " [  0.   0.   0. 362.]\n",
      " [122.  44. 138.  58.]\n",
      " [ 42.  20. 212.  88.]]\n",
      "MI: sensitivity - 0.5714285714285714; specificity - 0.38591549295774646\n",
      "STTC: sensitivity - nan; specificity - 1.0\n",
      "CD: sensitivity - 0.7349397590361446; specificity - 0.29591836734693877\n",
      "HYP: sensitivity - 0.6774193548387096; specificity - 0.29333333333333333\n",
      "mean: sensitivity - 0.7148936170212766; specificity - 0.5317394888705689\n"
     ]
    }
   ],
   "source": [
    "# 1D models\n",
    "## RNN\n",
    "!python3 rnn.py -data '../Processed/model_specific/' -epochs 100 -batch_size 256 -path_save_model 'saved_models/' -gpu_id 0 -learning_rate 0.01\n",
    "## LSTM\n",
    "!python3 lstm.py -data '../Processed/model_specific/' -epochs 100 -batch_size 256 -path_save_model 'saved_models/' -gpu_id 0 -learning_rate 0.01\n",
    "## GRU\n",
    "!python3 gru.py -data '../Processed/model_specific/' -epochs 100 -batch_size 256 -path_save_model '../saved_models/' -gpu_id 0 -learning_rate 0.01\n",
    "!python3 gru_with_attention.py -data '../Processed/model_specific/' -epochs 100 -batch_size 256 -path_save_model '../saved_models/' -gpu_id 0 -learning_rate 0.01"
   ]
  },
  {
   "cell_type": "code",
   "execution_count": null,
   "id": "6ed09d1a-f018-4d13-b201-f816bfeabb17",
   "metadata": {
    "scrolled": true
   },
   "outputs": [
    {
     "name": "stdout",
     "output_type": "stream",
     "text": [
      "/home/nepython/.local/lib/python3.10/site-packages/matplotlib/projections/__init__.py:63: UserWarning: Unable to import Axes3D. This may be due to multiple versions of Matplotlib being installed (e.g. as a system package and as a pip package). As a result, the 3D projection is not available.\n",
      "  warnings.warn(\"Unable to import Axes3D. This may be due to multiple versions of \"\n",
      "Loading data...\n",
      "Training epoch 1\n",
      "/home/nepython/.local/lib/python3.10/site-packages/torch/nn/modules/conv.py:456: UserWarning: Plan failed with a cudnnException: CUDNN_BACKEND_EXECUTION_PLAN_DESCRIPTOR: cudnnFinalize Descriptor Failed cudnn_status: CUDNN_STATUS_NOT_SUPPORTED (Triggered internally at ../aten/src/ATen/native/cudnn/Conv_v8.cpp:919.)\n",
      "  return F.conv2d(input, weight, bias, self.stride,\n",
      "/home/nepython/.local/lib/python3.10/site-packages/torch/autograd/graph.py:744: UserWarning: Plan failed with a cudnnException: CUDNN_BACKEND_EXECUTION_PLAN_DESCRIPTOR: cudnnFinalize Descriptor Failed cudnn_status: CUDNN_STATUS_NOT_SUPPORTED (Triggered internally at ../aten/src/ATen/native/cudnn/Conv_v8.cpp:919.)\n",
      "  return Variable._execution_engine.run_backward(  # Calls into the C++ engine to run the backward pass\n",
      "Training loss: 2.4530\n",
      "Training epoch 2\n",
      "Training loss: 2.4164\n",
      "Final Test Results:\n",
      "/home/nepython/.local/lib/python3.10/site-packages/sklearn/metrics/_ranking.py:1188: UndefinedMetricWarning: No positive samples in y_true, true positive value should be meaningless\n",
      "  warnings.warn(\n",
      "/home/nepython/.local/lib/python3.10/site-packages/torch/nn/modules/conv.py:456: UserWarning: Plan failed with a cudnnException: CUDNN_BACKEND_EXECUTION_PLAN_DESCRIPTOR: cudnnFinalize Descriptor Failed cudnn_status: CUDNN_STATUS_NOT_SUPPORTED (Triggered internally at ../aten/src/ATen/native/cudnn/Conv_v8.cpp:919.)\n",
      "  return F.conv2d(input, weight, bias, self.stride,\n",
      "/home/nepython/.local/lib/python3.10/site-packages/sklearn/metrics/_ranking.py:1188: UndefinedMetricWarning: No positive samples in y_true, true positive value should be meaningless\n",
      "  warnings.warn(\n",
      "[[  0.   7.   0. 355.]\n",
      " [  0.   0. 362.   0.]\n",
      " [  0. 166.   0. 196.]\n",
      " [ 62.   0. 300.   0.]]\n"
     ]
    }
   ],
   "source": [
    "# 2D models\n",
    "## AlexNet\n",
    "!python3 alexnet.py -data '../Processed/model_specific/' -epochs 2 -batch_size 256 -path_save_model 'saved_models/' -gpu_id 0 -learning_rate 0.01\n",
    "## VGGNet\n",
    "!python3 vggnet.py -data '../Processed/model_specific/' -epochs 100 -batch_size 256 -path_save_model 'saved_models/' -gpu_id 0 -learning_rate 0.01\n",
    "## ResNet\n",
    "!python3 resnet.py -data '../Processed/model_specific/' -epochs 100 -batch_size 256 -path_save_model 'saved_models/' -gpu_id 0 -learning_rate 0.01\n",
    "## CNN\n",
    "!python3 cnn.py -data '../Processed/model_specific/' -epochs 100 -batch_size 256 -path_save_model 'saved_models/' -gpu_id 0 -learning_rate 0.01\n",
    "!python cnn_gru.py -data '../Processed/model_specific/' -epochs 100 -batch_size 256 -path_save_model 'saved_models/' -gpu_id 0 -learning_rate 0.01\n",
    "!python cnn_lstm.py -data '../Processed/model_specific/' -epochs 100 -batch_size 256 -path_save_model 'saved_models/' -gpu_id 0 -learning_rate 0.01"
   ]
  },
  {
   "cell_type": "code",
   "execution_count": null,
   "id": "f41ac7dc",
   "metadata": {},
   "outputs": [],
   "source": [
    "# Fusion models\n",
    "!python early_fusion.py -signal_data '../Processed/model_specific/X_rnn' -image_data '../Processed/model_specific/X_cnn' -signal_model=bigru -image_model=resnet -epochs 100 -batch_size 256 -path_save_model 'saved_models/' -gpu_id 0 -learning_rate 0.01\n",
    "!python late_fusion.py -signal_data '../Processed/model_specific/X_rnn' -image_data '../Processed/model_specific/X_cnn' -signal_model=bigru -image_model=resnet -epochs 100 -batch_size 256 -path_save_model 'saved_models/' -gpu_id 0 -learning_rate 0.01\n",
    "!python joint_fusion.py -signal_data '../Processed/model_specific/X_rnn' -image_data '../Processed/model_specific/X_cnn' -signal_model=bigru -image_model=resnet -epochs 100 -batch_size 256 -path_save_model 'saved_models/' -gpu_id 0 -learning_rate 0.01"
   ]
  },
  {
   "cell_type": "markdown",
   "id": "9a7a2d5b-55de-4752-844a-358544ea5df8",
   "metadata": {},
   "source": [
    "## Evaluation"
   ]
  },
  {
   "cell_type": "code",
   "execution_count": null,
   "id": "9c1efe63-60c8-4ebe-8035-8870d6845226",
   "metadata": {},
   "outputs": [
    {
     "name": "stdout",
     "output_type": "stream",
     "text": [
      "/home/nepython/.local/lib/python3.10/site-packages/matplotlib/projections/__init__.py:63: UserWarning: Unable to import Axes3D. This may be due to multiple versions of Matplotlib being installed (e.g. as a system package and as a pip package). As a result, the 3D projection is not available.\n",
      "  warnings.warn(\"Unable to import Axes3D. This may be due to multiple versions of \"\n",
      "/home/nepython/.local/lib/python3.10/site-packages/sklearn/metrics/_ranking.py:1188: UndefinedMetricWarning: No positive samples in y_true, true positive value should be meaningless\n",
      "  warnings.warn(\n",
      "/home/nepython/.local/lib/python3.10/site-packages/torchmetrics/utilities/prints.py:43: UserWarning: No positive samples in targets, true positive value should be meaningless. Returning zero tensor in true positive score\n",
      "  warnings.warn(*args, **kwargs)\n",
      "/home/nepython/projects/COMP6011/Task3/DL_ECG_Classification/eval_saved_models.py:115: RuntimeWarning: invalid value encountered in scalar divide\n",
      "  STTC_sensi = matrix[1, 0] / (matrix[1, 0] + matrix[1, 1])\n",
      "/home/nepython/projects/COMP6011/Task3/DL_ECG_Classification/eval_saved_models.py:118: RuntimeWarning: invalid value encountered in scalar divide\n",
      "  STTC_prec = matrix[1, 0] / (matrix[1, 0] + matrix[1, 2])\n",
      "/home/nepython/projects/COMP6011/Task3/DL_ECG_Classification/eval_saved_models.py:119: RuntimeWarning: invalid value encountered in scalar divide\n",
      "  STTC_f1 = (2 * matrix[1, 0]) / (2 * matrix[1, 0] + matrix[1, 2] + matrix[1, 1])\n",
      "/home/nepython/projects/COMP6011/Task3/DL_ECG_Classification/eval_saved_models.py:139: RuntimeWarning: invalid value encountered in scalar divide\n",
      "  NORM_prec = norm_vec[0] / (norm_vec[0] + norm_vec[2])\n",
      "Final Test Results with Norm: \n",
      " [[  4.   3. 218. 137.]\n",
      " [  0.   0.   0. 362.]\n",
      " [122.  44. 138.  58.]\n",
      " [ 42.  20. 212.  88.]]\n",
      "[  0. 127.   0. 235.]\n",
      "\n",
      "MI: \n",
      "\tsensitivity - 0.5714285714285714\n",
      "\tspecificity - 0.38591549295774646\n",
      "\tprecision - 0.018018018018018018\n",
      "\taccuracy - 0.38950276243093923\n",
      "\tF1 Score - 0.034934497816593885\n",
      "\tAUROC - 0.5158953666687012\n",
      "STTC: \n",
      "\tsensitivity - nan\n",
      "\tspecificity - 1.0\n",
      "\tprecision - nan\n",
      "\taccuracy - 1.0\n",
      "\tF1 Score - nan\n",
      "\tAUROC - 0.0\n",
      "CD: \n",
      "\tsensitivity - 0.7349397590361446\n",
      "\tspecificity - 0.29591836734693877\n",
      "\tprecision - 0.46923076923076923\n",
      "\taccuracy - 0.4972375690607735\n",
      "\tF1 Score - 0.5727699530516432\n",
      "\tAUROC - 0.5313191413879395\n",
      "HYP: \n",
      "\tsensitivity - 0.6774193548387096\n",
      "\tspecificity - 0.29333333333333333\n",
      "\tprecision - 0.16535433070866143\n",
      "\taccuracy - 0.35911602209944754\n",
      "\tF1 Score - 0.26582278481012656\n",
      "\tAUROC - 0.4903763234615326\n",
      "NORM: \n",
      "\tsensitivity - 0.0\n",
      "\tspecificity - 1.0\n",
      "\tprecision - nan\n",
      "\taccuracy - 0.649171270718232\n",
      "\tF1 Score - 0.0\n",
      "mean: \n",
      "\tG-Mean - 0.531076899036372\n",
      "\tsensitivity - 0.46408839779005523\n",
      "\tspecificity - 0.6077348066298343\n",
      "\tprecision - 0.2282608695652174\n",
      "\taccuracy - 0.5790055248618784\n",
      "\tF1 Score - 0.30601092896174864\n",
      "\n",
      "\n",
      " Final Test Results without Norm: \n",
      "mean: \n",
      "\tG-Mean - 0.616552646991095\n",
      "\tsensitivity - 0.7148936170212766\n",
      "\tspecificity - 0.5317394888705689\n",
      "\tprecision - 0.22826086956521738\n",
      "\taccuracy - 0.56146408839779\n",
      "\tF1 Score - 0.34603501544799176\n",
      "\tAUROC - 0.3843977153301239\n"
     ]
    }
   ],
   "source": [
    "!python eval_saved_models.py -gpu_id 0 \\\n",
    "    -model gru \\\n",
    "    # -path ../saved_models/1748406645.414461model2 \\\n",
    "    -data ../Processed/model_specific/"
   ]
  },
  {
   "cell_type": "code",
   "execution_count": 92,
   "id": "013b6540-e092-45e1-b230-0fa10ebc4d2e",
   "metadata": {},
   "outputs": [
    {
     "data": {
      "text/plain": [
       "array([1., 0., 0., 0.])"
      ]
     },
     "execution_count": 92,
     "metadata": {},
     "output_type": "execute_result"
    }
   ],
   "source": []
  },
  {
   "cell_type": "code",
   "execution_count": null,
   "id": "87e99f80-3719-4926-a582-083c5a3eacc5",
   "metadata": {},
   "outputs": [],
   "source": []
  }
 ],
 "metadata": {
  "kernelspec": {
   "display_name": "Python 3 (ipykernel)",
   "language": "python",
   "name": "python3"
  },
  "language_info": {
   "codemirror_mode": {
    "name": "ipython",
    "version": 3
   },
   "file_extension": ".py",
   "mimetype": "text/x-python",
   "name": "python",
   "nbconvert_exporter": "python",
   "pygments_lexer": "ipython3",
   "version": "3.10.12"
  }
 },
 "nbformat": 4,
 "nbformat_minor": 5
}
